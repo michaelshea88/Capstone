{
 "cells": [
  {
   "cell_type": "markdown",
   "metadata": {},
   "source": [
    "Below done so far:\n",
    "- access Yummly API with \"Search Recipes API Call\"\n",
    "- search for \"chicken\" recipes\n",
    "- convert JSON into dicts and lists with .json() function\n",
    "- extract data from converted JSON\n",
    "    - \"recipe\" table \n",
    "    - \"course\" table\n",
    "    - \"ingredients\" table\n",
    "    - \"flavors\" table\n",
    "- search Yummly metadata dictionary for valid search terms\n",
    "- look at an individual recipe in detail with \"Get Recipe API Call\"\n",
    "\n",
    "\n",
    "To do:\n",
    "- identify if any info from the recipe_detail can be used\n",
    "- come up with systematic way to pull recipes from API\n",
    "    - one possibility:\n",
    "- store data from API calls in SQL database / csvs"
   ]
  },
  {
   "cell_type": "code",
   "execution_count": 20,
   "metadata": {
    "collapsed": true
   },
   "outputs": [],
   "source": [
    "# imports\n",
    "\n",
    "import requests\n",
    "import json\n",
    "import pandas as pd\n",
    "import numpy as np"
   ]
  },
  {
   "cell_type": "code",
   "execution_count": 3,
   "metadata": {
    "collapsed": true
   },
   "outputs": [],
   "source": [
    "# ID and Key\n",
    "\n",
    "app_id = 'e2b9bebc'\n",
    "app_key = '4193215272970d956cfd5384a08580a9'"
   ]
  },
  {
   "cell_type": "markdown",
   "metadata": {},
   "source": [
    "Create variables for URLs. The base_url is for the search_recipes API call. The metadata_url is for searching for valid search terms."
   ]
  },
  {
   "cell_type": "code",
   "execution_count": 21,
   "metadata": {
    "collapsed": true
   },
   "outputs": [],
   "source": [
    "# URLs\n",
    "\n",
    "base_url = 'http://api.yummly.com/v1/api/recipes?'\n",
    "metadata_url = 'http://api.yummly.com/v1/api/metadata/'"
   ]
  },
  {
   "cell_type": "code",
   "execution_count": 22,
   "metadata": {
    "collapsed": true
   },
   "outputs": [],
   "source": [
    "# headers with yummly ID and Key\n",
    "\n",
    "headers = {'X-Yummly-App-ID':'e2b9bebc', 'X-Yummly-App-Key':'4193215272970d956cfd5384a08580a9'}"
   ]
  },
  {
   "cell_type": "code",
   "execution_count": 23,
   "metadata": {
    "collapsed": false
   },
   "outputs": [],
   "source": [
    "# params\n",
    "\n",
    "parameters = {'q':'fajitas', 'maxResult': 100} \n",
    "\n",
    "# NOTE: maxResult can be 1,000, limiting to 100 for now"
   ]
  },
  {
   "cell_type": "code",
   "execution_count": 24,
   "metadata": {
    "collapsed": false
   },
   "outputs": [],
   "source": [
    "# Call API\n",
    "\n",
    "response = requests.get(base_url, headers=headers, params=parameters)"
   ]
  },
  {
   "cell_type": "code",
   "execution_count": 25,
   "metadata": {
    "collapsed": false
   },
   "outputs": [
    {
     "data": {
      "text/plain": [
       "200"
      ]
     },
     "execution_count": 25,
     "metadata": {},
     "output_type": "execute_result"
    }
   ],
   "source": [
    "# Check status code\n",
    "\n",
    "response.status_code"
   ]
  },
  {
   "cell_type": "code",
   "execution_count": 26,
   "metadata": {
    "collapsed": false
   },
   "outputs": [],
   "source": [
    "# Convert JSON to python dictionaries and lists\n",
    "\n",
    "guac = response.json()"
   ]
  },
  {
   "cell_type": "code",
   "execution_count": 27,
   "metadata": {
    "collapsed": false
   },
   "outputs": [
    {
     "data": {
      "text/plain": [
       "dict"
      ]
     },
     "execution_count": 27,
     "metadata": {},
     "output_type": "execute_result"
    }
   ],
   "source": [
    "# View type of object it is\n",
    "\n",
    "type(guac)"
   ]
  },
  {
   "cell_type": "code",
   "execution_count": 28,
   "metadata": {
    "collapsed": false
   },
   "outputs": [
    {
     "data": {
      "text/plain": [
       "[u'matches', u'totalMatchCount', u'attribution', u'facetCounts', u'criteria']"
      ]
     },
     "execution_count": 28,
     "metadata": {},
     "output_type": "execute_result"
    }
   ],
   "source": [
    "# View top level keys\n",
    "\n",
    "response_keys = guac.keys()\n",
    "response_keys"
   ]
  },
  {
   "cell_type": "code",
   "execution_count": 29,
   "metadata": {
    "collapsed": false
   },
   "outputs": [
    {
     "data": {
      "text/plain": [
       "2878"
      ]
     },
     "execution_count": 29,
     "metadata": {},
     "output_type": "execute_result"
    }
   ],
   "source": [
    "guac['totalMatchCount']"
   ]
  },
  {
   "cell_type": "code",
   "execution_count": 30,
   "metadata": {
    "collapsed": false
   },
   "outputs": [
    {
     "data": {
      "text/plain": [
       "{u'attributes': {u'course': [u'Main Dishes'], u'cuisine': [u'Mexican']},\n",
       " u'flavors': {u'bitter': 0.16666666666666666,\n",
       "  u'meaty': 0.5,\n",
       "  u'piquant': 0.5,\n",
       "  u'salty': 0.16666666666666666,\n",
       "  u'sour': 0.8333333333333334,\n",
       "  u'sweet': 0.16666666666666666},\n",
       " u'id': u'One-Skillet-Steak-Fajitas-1230683',\n",
       " u'imageUrlsBySize': {u'90': u'http://lh3.googleusercontent.com/poAnMgbAYgE-FR2kJubtginN6ykFGhacfv-ScC-8PWs7cVQvP_K6lYVwstBF_T6ygTxylSVs4Mlcj2VJRVZ1Lg=s90-c'},\n",
       " u'ingredients': [u'olive oil',\n",
       "  u'skirt steak',\n",
       "  u'onions',\n",
       "  u'red bell pepper',\n",
       "  u'green bell pepper',\n",
       "  u'fajita seasoning mix',\n",
       "  u'shredded cheese',\n",
       "  u'flour tortillas',\n",
       "  u'salsa',\n",
       "  u'sour cream',\n",
       "  u'guacamole'],\n",
       " u'rating': 4,\n",
       " u'recipeName': u'One Skillet Steak Fajitas',\n",
       " u'smallImageUrls': [u'http://lh3.googleusercontent.com/0PbgGLnxC7zrxJyvcA8YKyo3l2xvwcvkc_a0Qu7NBiNLGtOnJUwb4dxiCe7jQDj_SzLoN-TL-dE6-T1B-nPxExA=s90'],\n",
       " u'sourceDisplayName': u'Daily Dish Recipes',\n",
       " u'totalTimeInSeconds': 2400}"
      ]
     },
     "execution_count": 30,
     "metadata": {},
     "output_type": "execute_result"
    }
   ],
   "source": [
    "# The matches key has all the data in it - view a sub dictionary\n",
    "\n",
    "guac['matches'][11]"
   ]
  },
  {
   "cell_type": "markdown",
   "metadata": {},
   "source": [
    "### Extracting data"
   ]
  },
  {
   "cell_type": "code",
   "execution_count": 31,
   "metadata": {
    "collapsed": true
   },
   "outputs": [],
   "source": [
    "# Create dicts to put data into\n",
    "\n",
    "recipe_info_dict = {}\n",
    "flavors_dict = {}\n",
    "ingredients_dict = {}\n",
    "courses_dict = {}\n",
    "cuisine_dict = {}"
   ]
  },
  {
   "cell_type": "code",
   "execution_count": 32,
   "metadata": {
    "collapsed": false
   },
   "outputs": [],
   "source": [
    "# pull data in for loop\n",
    "for item in guac['matches']:\n",
    "    \n",
    "    # Get basic recipe info and put into list\n",
    "    recipe_info = []\n",
    "    recipe_info.append(item.get('recipeName'))\n",
    "    recipe_info.append(item.get('totalTimeInSeconds'))\n",
    "    recipe_info.append(item.get('sourceDisplayName'))\n",
    "    recipe_info.append(item.get('rating'))\n",
    "    \n",
    "    # Add to recipe_info_dict\n",
    "    recipe_info_dict[item.get('id')] = recipe_info\n",
    "    \n",
    "    # Add data to dicts for courses, flavors and cuisines\n",
    "    courses_dict[item.get('id')] = item['attributes'].get('course')\n",
    "    flavors_dict[item.get('id')] = item.get('flavors')\n",
    "    cuisine_dict[item.get('id')] = item['attributes'].get('cuisine')\n"
   ]
  },
  {
   "cell_type": "markdown",
   "metadata": {},
   "source": [
    "Next few blocks contain some old code keeping in case needed:"
   ]
  },
  {
   "cell_type": "code",
   "execution_count": 33,
   "metadata": {
    "collapsed": true
   },
   "outputs": [],
   "source": [
    "# for item in guac['matches']:\n",
    "#     recipe_info = [item.get('recipeName'), item['attributes'].get('cuisine'),\n",
    "#                   item.get('totalTimeInSeconds'), item.get('sourceDisplayName'),\n",
    "#                   item.get('rating')]\n",
    "#     recipe_info.append(item.get('recipeName'))\n",
    "#     recipe_info.append(item['attributes'].get('cuisine'))\n",
    "#     recipe_info.append(item.get('totalTimeInSeconds'))\n",
    "#     recipe_info.append(item.get('rating'))\n",
    "#     recipe_info.append(item.get('sourceDisplayName'))\n",
    "#     recipe_info.append(item.get('imageUrlsBySize').keys())\n",
    "#     rec_id.append(item.get('id'))\n",
    "#     rec_name.append(item.get('recipeName'))\n",
    "#     cuisine.append(item['attributes'].get('cuisine'))\n",
    "#     tot_time_sec.append(item.get('totalTimeInSeconds'))\n",
    "#     rec_source.append(item.get('sourceDisplayName'))\n",
    "#     image_size.append(item.get('imageUrlsBySize').keys())\n",
    "#     rating.append(item.get('rating'))\n",
    "#     rec_id.append(item.get('id'))\n",
    "#     rating.append(item.get('rating'))\n",
    "#     rec_source.append(item.get('sourceDisplayName'))    \n",
    "#     recipe_info_dict[item.get('id')] = \n",
    "#     ingredients_dict[item.get('id')] = item.get('ingredients')\n",
    "    \n",
    "#     for ingredient in item.get('ingredients'):\n",
    "#         ingredients_all_set.add(ingredient)"
   ]
  },
  {
   "cell_type": "markdown",
   "metadata": {
    "collapsed": true
   },
   "source": [
    "### Deal with ingredients - below code is messy and work in progress"
   ]
  },
  {
   "cell_type": "code",
   "execution_count": 34,
   "metadata": {
    "collapsed": false
   },
   "outputs": [],
   "source": [
    "ingredients_dict_2 = {}\n",
    "for pair in ingredients_dict.items():\n",
    "#     for i in range(len(pair)):\n",
    "#         if pair[i] in ingredients_all_set:\n",
    "    ing_list = []\n",
    "    \n",
    "    for ing in ingredients_all_set:\n",
    "        \n",
    "        ing_list.append\n",
    "    \n",
    "    for i in range(len(pair[1])):\n",
    "        if pair[1][i] in ingredients_all:\n",
    "            ing_list.append(1)\n",
    "        else:\n",
    "            ing_list.append(0)\n",
    "    \n",
    "    \n",
    "    ingredients_dict_2[pair[0]] = ing_list"
   ]
  },
  {
   "cell_type": "code",
   "execution_count": 35,
   "metadata": {
    "collapsed": false
   },
   "outputs": [
    {
     "ename": "SyntaxError",
     "evalue": "invalid syntax (<ipython-input-35-fba0d58980c0>, line 5)",
     "output_type": "error",
     "traceback": [
      "\u001b[0;36m  File \u001b[0;32m\"<ipython-input-35-fba0d58980c0>\"\u001b[0;36m, line \u001b[0;32m5\u001b[0m\n\u001b[0;31m    if pair[1][i] in ingredients_all_set\u001b[0m\n\u001b[0m                                        ^\u001b[0m\n\u001b[0;31mSyntaxError\u001b[0m\u001b[0;31m:\u001b[0m invalid syntax\n"
     ]
    }
   ],
   "source": [
    "\n",
    "for pair in ingredients_dict.items():\n",
    "    for i in range(len(ingredients_all_set)):\n",
    "        for i in range(len(pair[1])):\n",
    "            if pair[1][i] in ingredients_all_set\n",
    "    \n",
    "    ing_list = []\n",
    "    if "
   ]
  },
  {
   "cell_type": "code",
   "execution_count": 36,
   "metadata": {
    "collapsed": false
   },
   "outputs": [],
   "source": [
    "for i in range (len(ingredients_dict)):\n",
    "    ing_list = []\n",
    "    for ingredient in ingredients_all_set:\n",
    "        if ingredient in ingredients_dict.values()[i]:\n",
    "            ing_list.append(1)\n",
    "        else:\n",
    "            ing_list.append(0)\n",
    "    ingredients_dict_2[ingredients_dict.keys()[i]] = ing_list"
   ]
  },
  {
   "cell_type": "code",
   "execution_count": 37,
   "metadata": {
    "collapsed": false
   },
   "outputs": [
    {
     "data": {
      "text/plain": [
       "{}"
      ]
     },
     "execution_count": 37,
     "metadata": {},
     "output_type": "execute_result"
    }
   ],
   "source": [
    "ingredients_dict"
   ]
  },
  {
   "cell_type": "code",
   "execution_count": 38,
   "metadata": {
    "collapsed": false
   },
   "outputs": [
    {
     "data": {
      "text/plain": [
       "{}"
      ]
     },
     "execution_count": 38,
     "metadata": {},
     "output_type": "execute_result"
    }
   ],
   "source": [
    "ingredients_dict_2"
   ]
  },
  {
   "cell_type": "code",
   "execution_count": 39,
   "metadata": {
    "collapsed": false
   },
   "outputs": [
    {
     "ename": "SyntaxError",
     "evalue": "invalid syntax (<ipython-input-39-8b42068d0843>, line 7)",
     "output_type": "error",
     "traceback": [
      "\u001b[0;36m  File \u001b[0;32m\"<ipython-input-39-8b42068d0843>\"\u001b[0;36m, line \u001b[0;32m7\u001b[0m\n\u001b[0;31m    if pair\u001b[0m\n\u001b[0m           ^\u001b[0m\n\u001b[0;31mSyntaxError\u001b[0m\u001b[0;31m:\u001b[0m invalid syntax\n"
     ]
    }
   ],
   "source": [
    "for pair in ingredients_dict.items():\n",
    "#     for i in range(len(pair)):\n",
    "#         if pair[i] in ingredients_all_set:\n",
    "    ing_list = []\n",
    "    counter = len\n",
    "    for ing in ingredients_all_set:\n",
    "        if pair\n",
    "    \n",
    "    for i in range(len(pair[1])):\n",
    "        if pair[1][i] in ingredients_all:\n",
    "            ing_list.append(1)\n",
    "        else:\n",
    "            ing_list.append(0)\n",
    "    ingredients_dict_2[pair[0]] = ing_list"
   ]
  },
  {
   "cell_type": "markdown",
   "metadata": {},
   "source": [
    "### Build recipe info DataFrame"
   ]
  },
  {
   "cell_type": "code",
   "execution_count": 40,
   "metadata": {
    "collapsed": false
   },
   "outputs": [
    {
     "data": {
      "text/plain": [
       "[u'Seitan Fajitas', 1500, u'popsugar.com', 3]"
      ]
     },
     "execution_count": 40,
     "metadata": {},
     "output_type": "execute_result"
    }
   ],
   "source": [
    "recipe_info_dict[recipe_info_dict.keys()[1]]"
   ]
  },
  {
   "cell_type": "code",
   "execution_count": 41,
   "metadata": {
    "collapsed": false
   },
   "outputs": [
    {
     "data": {
      "text/plain": [
       "u'Seitan-Fajitas-1029006'"
      ]
     },
     "execution_count": 41,
     "metadata": {},
     "output_type": "execute_result"
    }
   ],
   "source": [
    "recipe_info_dict.keys()[1]"
   ]
  },
  {
   "cell_type": "code",
   "execution_count": 42,
   "metadata": {
    "collapsed": false
   },
   "outputs": [],
   "source": [
    "recipe_info_df = pd.DataFrame.from_dict(recipe_info_dict, orient='index')"
   ]
  },
  {
   "cell_type": "code",
   "execution_count": 43,
   "metadata": {
    "collapsed": false
   },
   "outputs": [],
   "source": [
    "recipe_info_df.columns = ['rec_name', 'tot_time_seconds', 'rec_source', \n",
    "                         'rating']"
   ]
  },
  {
   "cell_type": "code",
   "execution_count": 44,
   "metadata": {
    "collapsed": false
   },
   "outputs": [
    {
     "data": {
      "text/html": [
       "<div>\n",
       "<table border=\"1\" class=\"dataframe\">\n",
       "  <thead>\n",
       "    <tr style=\"text-align: right;\">\n",
       "      <th></th>\n",
       "      <th>rec_name</th>\n",
       "      <th>tot_time_seconds</th>\n",
       "      <th>rec_source</th>\n",
       "      <th>rating</th>\n",
       "    </tr>\n",
       "  </thead>\n",
       "  <tbody>\n",
       "    <tr>\n",
       "      <th>Easy-Slow-Cooker-Chicken-Fajitas-1700982</th>\n",
       "      <td>Easy Slow Cooker Chicken Fajitas</td>\n",
       "      <td>22200.0</td>\n",
       "      <td>Chew Nibble Nosh</td>\n",
       "      <td>4</td>\n",
       "    </tr>\n",
       "    <tr>\n",
       "      <th>Seitan-Fajitas-1029006</th>\n",
       "      <td>Seitan Fajitas</td>\n",
       "      <td>1500.0</td>\n",
       "      <td>popsugar.com</td>\n",
       "      <td>3</td>\n",
       "    </tr>\n",
       "    <tr>\n",
       "      <th>Chicken-Fajita-Roll-Ups-1698150</th>\n",
       "      <td>Chicken Fajita Roll Ups</td>\n",
       "      <td>1800.0</td>\n",
       "      <td>Follow the Ruels</td>\n",
       "      <td>4</td>\n",
       "    </tr>\n",
       "    <tr>\n",
       "      <th>Chicken-Fajitas-1232787</th>\n",
       "      <td>Chicken Fajitas</td>\n",
       "      <td>600.0</td>\n",
       "      <td>Annabel Karmel</td>\n",
       "      <td>4</td>\n",
       "    </tr>\n",
       "    <tr>\n",
       "      <th>Chicken-Fajita-Pizza-485276</th>\n",
       "      <td>Chicken Fajita Pizza</td>\n",
       "      <td>2400.0</td>\n",
       "      <td>The Comfort of Cooking</td>\n",
       "      <td>5</td>\n",
       "    </tr>\n",
       "  </tbody>\n",
       "</table>\n",
       "</div>"
      ],
      "text/plain": [
       "                                                                  rec_name  \\\n",
       "Easy-Slow-Cooker-Chicken-Fajitas-1700982  Easy Slow Cooker Chicken Fajitas   \n",
       "Seitan-Fajitas-1029006                                      Seitan Fajitas   \n",
       "Chicken-Fajita-Roll-Ups-1698150                    Chicken Fajita Roll Ups   \n",
       "Chicken-Fajitas-1232787                                    Chicken Fajitas   \n",
       "Chicken-Fajita-Pizza-485276                           Chicken Fajita Pizza   \n",
       "\n",
       "                                          tot_time_seconds  \\\n",
       "Easy-Slow-Cooker-Chicken-Fajitas-1700982           22200.0   \n",
       "Seitan-Fajitas-1029006                              1500.0   \n",
       "Chicken-Fajita-Roll-Ups-1698150                     1800.0   \n",
       "Chicken-Fajitas-1232787                              600.0   \n",
       "Chicken-Fajita-Pizza-485276                         2400.0   \n",
       "\n",
       "                                                      rec_source  rating  \n",
       "Easy-Slow-Cooker-Chicken-Fajitas-1700982        Chew Nibble Nosh       4  \n",
       "Seitan-Fajitas-1029006                              popsugar.com       3  \n",
       "Chicken-Fajita-Roll-Ups-1698150                 Follow the Ruels       4  \n",
       "Chicken-Fajitas-1232787                           Annabel Karmel       4  \n",
       "Chicken-Fajita-Pizza-485276               The Comfort of Cooking       5  "
      ]
     },
     "execution_count": 44,
     "metadata": {},
     "output_type": "execute_result"
    }
   ],
   "source": [
    "recipe_info_df.head()"
   ]
  },
  {
   "cell_type": "code",
   "execution_count": 45,
   "metadata": {
    "collapsed": false
   },
   "outputs": [],
   "source": [
    "# recipe_info_list = [rec_id, rec_name, cuisine, tot_time_sec, rec_source, image_size, rating]"
   ]
  },
  {
   "cell_type": "code",
   "execution_count": 46,
   "metadata": {
    "collapsed": false
   },
   "outputs": [
    {
     "ename": "NameError",
     "evalue": "name 'recipe_info_list' is not defined",
     "output_type": "error",
     "traceback": [
      "\u001b[0;31m---------------------------------------------------------------------------\u001b[0m",
      "\u001b[0;31mNameError\u001b[0m                                 Traceback (most recent call last)",
      "\u001b[0;32m<ipython-input-46-bd14344bdfd3>\u001b[0m in \u001b[0;36m<module>\u001b[0;34m()\u001b[0m\n\u001b[0;32m----> 1\u001b[0;31m \u001b[0;32mfor\u001b[0m \u001b[0mi\u001b[0m \u001b[0;32min\u001b[0m \u001b[0mrecipe_info_list\u001b[0m\u001b[0;34m:\u001b[0m\u001b[0;34m\u001b[0m\u001b[0m\n\u001b[0m\u001b[1;32m      2\u001b[0m     \u001b[0;32mprint\u001b[0m \u001b[0mlen\u001b[0m\u001b[0;34m(\u001b[0m\u001b[0mi\u001b[0m\u001b[0;34m)\u001b[0m\u001b[0;34m\u001b[0m\u001b[0m\n",
      "\u001b[0;31mNameError\u001b[0m: name 'recipe_info_list' is not defined"
     ]
    }
   ],
   "source": [
    "for i in recipe_info_list:\n",
    "    print len(i)"
   ]
  },
  {
   "cell_type": "code",
   "execution_count": 47,
   "metadata": {
    "collapsed": false
   },
   "outputs": [],
   "source": [
    "# create flavor_df\n",
    "\n",
    "flavor_df = pd.DataFrame(flavors_dict).transpose()"
   ]
  },
  {
   "cell_type": "code",
   "execution_count": 48,
   "metadata": {
    "collapsed": false
   },
   "outputs": [
    {
     "data": {
      "text/html": [
       "<div>\n",
       "<table border=\"1\" class=\"dataframe\">\n",
       "  <thead>\n",
       "    <tr style=\"text-align: right;\">\n",
       "      <th></th>\n",
       "      <th>bitter</th>\n",
       "      <th>meaty</th>\n",
       "      <th>piquant</th>\n",
       "      <th>salty</th>\n",
       "      <th>sour</th>\n",
       "      <th>sweet</th>\n",
       "    </tr>\n",
       "  </thead>\n",
       "  <tbody>\n",
       "    <tr>\n",
       "      <th>5-Ingredient-Slow-Cooker-Steak-Fajitas-1547932</th>\n",
       "      <td>0.166667</td>\n",
       "      <td>0.333333</td>\n",
       "      <td>0.833333</td>\n",
       "      <td>0.5</td>\n",
       "      <td>0.666667</td>\n",
       "      <td>0.166667</td>\n",
       "    </tr>\n",
       "    <tr>\n",
       "      <th>Baked-Chicken-Fajitas-1702035</th>\n",
       "      <td>0.166667</td>\n",
       "      <td>0.166667</td>\n",
       "      <td>0.5</td>\n",
       "      <td>0.166667</td>\n",
       "      <td>0.833333</td>\n",
       "      <td>0.166667</td>\n",
       "    </tr>\n",
       "    <tr>\n",
       "      <th>Beef-Fajitas-1198033</th>\n",
       "      <td>None</td>\n",
       "      <td>None</td>\n",
       "      <td>None</td>\n",
       "      <td>None</td>\n",
       "      <td>None</td>\n",
       "      <td>None</td>\n",
       "    </tr>\n",
       "    <tr>\n",
       "      <th>Beef-fajitas-336296</th>\n",
       "      <td>None</td>\n",
       "      <td>None</td>\n",
       "      <td>None</td>\n",
       "      <td>None</td>\n",
       "      <td>None</td>\n",
       "      <td>None</td>\n",
       "    </tr>\n",
       "    <tr>\n",
       "      <th>Catfish-Fajitas-My-Recipes</th>\n",
       "      <td>0.166667</td>\n",
       "      <td>0.166667</td>\n",
       "      <td>0.833333</td>\n",
       "      <td>0.333333</td>\n",
       "      <td>0.833333</td>\n",
       "      <td>0.166667</td>\n",
       "    </tr>\n",
       "  </tbody>\n",
       "</table>\n",
       "</div>"
      ],
      "text/plain": [
       "                                                  bitter     meaty   piquant  \\\n",
       "5-Ingredient-Slow-Cooker-Steak-Fajitas-1547932  0.166667  0.333333  0.833333   \n",
       "Baked-Chicken-Fajitas-1702035                   0.166667  0.166667       0.5   \n",
       "Beef-Fajitas-1198033                                None      None      None   \n",
       "Beef-fajitas-336296                                 None      None      None   \n",
       "Catfish-Fajitas-My-Recipes                      0.166667  0.166667  0.833333   \n",
       "\n",
       "                                                   salty      sour     sweet  \n",
       "5-Ingredient-Slow-Cooker-Steak-Fajitas-1547932       0.5  0.666667  0.166667  \n",
       "Baked-Chicken-Fajitas-1702035                   0.166667  0.833333  0.166667  \n",
       "Beef-Fajitas-1198033                                None      None      None  \n",
       "Beef-fajitas-336296                                 None      None      None  \n",
       "Catfish-Fajitas-My-Recipes                      0.333333  0.833333  0.166667  "
      ]
     },
     "execution_count": 48,
     "metadata": {},
     "output_type": "execute_result"
    }
   ],
   "source": [
    "# view flavor_df\n",
    "flavor_df.head()"
   ]
  },
  {
   "cell_type": "markdown",
   "metadata": {},
   "source": [
    "### Build Courses DF"
   ]
  },
  {
   "cell_type": "code",
   "execution_count": 49,
   "metadata": {
    "collapsed": false
   },
   "outputs": [],
   "source": [
    "# Code from stackoverflow\n",
    "\n",
    "courses_df = pd.DataFrame(dict([ (k,pd.Series(v) for k,v in courses_dict.iteritems() ])).transpose()"
   ]
  },
  {
   "cell_type": "code",
   "execution_count": 50,
   "metadata": {
    "collapsed": false
   },
   "outputs": [
    {
     "data": {
      "text/html": [
       "<div>\n",
       "<table border=\"1\" class=\"dataframe\">\n",
       "  <thead>\n",
       "    <tr style=\"text-align: right;\">\n",
       "      <th></th>\n",
       "      <th>course_a</th>\n",
       "      <th>course_b</th>\n",
       "    </tr>\n",
       "  </thead>\n",
       "  <tbody>\n",
       "    <tr>\n",
       "      <th>5-Ingredient-Slow-Cooker-Steak-Fajitas-1547932</th>\n",
       "      <td>Main Dishes</td>\n",
       "      <td>NaN</td>\n",
       "    </tr>\n",
       "    <tr>\n",
       "      <th>Baked-Chicken-Fajitas-1702035</th>\n",
       "      <td>Main Dishes</td>\n",
       "      <td>NaN</td>\n",
       "    </tr>\n",
       "    <tr>\n",
       "      <th>Beef-Fajitas-1198033</th>\n",
       "      <td>Main Dishes</td>\n",
       "      <td>NaN</td>\n",
       "    </tr>\n",
       "    <tr>\n",
       "      <th>Beef-fajitas-336296</th>\n",
       "      <td>Main Dishes</td>\n",
       "      <td>NaN</td>\n",
       "    </tr>\n",
       "    <tr>\n",
       "      <th>Catfish-Fajitas-My-Recipes</th>\n",
       "      <td>Main Dishes</td>\n",
       "      <td>NaN</td>\n",
       "    </tr>\n",
       "    <tr>\n",
       "      <th>Chicken-Fajita-1603524</th>\n",
       "      <td>Main Dishes</td>\n",
       "      <td>NaN</td>\n",
       "    </tr>\n",
       "    <tr>\n",
       "      <th>Chicken-Fajita-Burgers-__-A-Giveaway__-1690009</th>\n",
       "      <td>Main Dishes</td>\n",
       "      <td>Lunch</td>\n",
       "    </tr>\n",
       "    <tr>\n",
       "      <th>Chicken-Fajita-Chopped-Salad-1682643</th>\n",
       "      <td>Salads</td>\n",
       "      <td>Lunch</td>\n",
       "    </tr>\n",
       "    <tr>\n",
       "      <th>Chicken-Fajita-Crescent-Braid-685414</th>\n",
       "      <td>Main Dishes</td>\n",
       "      <td>Lunch</td>\n",
       "    </tr>\n",
       "    <tr>\n",
       "      <th>Chicken-Fajita-Foil-Packet-Meal-1684657</th>\n",
       "      <td>Main Dishes</td>\n",
       "      <td>NaN</td>\n",
       "    </tr>\n",
       "    <tr>\n",
       "      <th>Chicken-Fajita-Layered-Salad-1694369</th>\n",
       "      <td>Salads</td>\n",
       "      <td>NaN</td>\n",
       "    </tr>\n",
       "    <tr>\n",
       "      <th>Chicken-Fajita-Pasta-1057903</th>\n",
       "      <td>Main Dishes</td>\n",
       "      <td>NaN</td>\n",
       "    </tr>\n",
       "    <tr>\n",
       "      <th>Chicken-Fajita-Pasta-1613996</th>\n",
       "      <td>Main Dishes</td>\n",
       "      <td>NaN</td>\n",
       "    </tr>\n",
       "    <tr>\n",
       "      <th>Chicken-Fajita-Pizza-485276</th>\n",
       "      <td>Main Dishes</td>\n",
       "      <td>NaN</td>\n",
       "    </tr>\n",
       "    <tr>\n",
       "      <th>Chicken-Fajita-Quesadilla-1315407</th>\n",
       "      <td>Lunch</td>\n",
       "      <td>Main Dishes</td>\n",
       "    </tr>\n",
       "    <tr>\n",
       "      <th>Chicken-Fajita-Quesadillas-762588</th>\n",
       "      <td>Main Dishes</td>\n",
       "      <td>Lunch</td>\n",
       "    </tr>\n",
       "    <tr>\n",
       "      <th>Chicken-Fajita-Queso-Fundido-1472908</th>\n",
       "      <td>Main Dishes</td>\n",
       "      <td>NaN</td>\n",
       "    </tr>\n",
       "    <tr>\n",
       "      <th>Chicken-Fajita-Roll-Ups-1698150</th>\n",
       "      <td>Main Dishes</td>\n",
       "      <td>NaN</td>\n",
       "    </tr>\n",
       "    <tr>\n",
       "      <th>Chicken-Fajitas-1093917</th>\n",
       "      <td>Main Dishes</td>\n",
       "      <td>NaN</td>\n",
       "    </tr>\n",
       "    <tr>\n",
       "      <th>Chicken-Fajitas-1097329</th>\n",
       "      <td>Main Dishes</td>\n",
       "      <td>NaN</td>\n",
       "    </tr>\n",
       "  </tbody>\n",
       "</table>\n",
       "</div>"
      ],
      "text/plain": [
       "                                                   course_a     course_b\n",
       "5-Ingredient-Slow-Cooker-Steak-Fajitas-1547932  Main Dishes          NaN\n",
       "Baked-Chicken-Fajitas-1702035                   Main Dishes          NaN\n",
       "Beef-Fajitas-1198033                            Main Dishes          NaN\n",
       "Beef-fajitas-336296                             Main Dishes          NaN\n",
       "Catfish-Fajitas-My-Recipes                      Main Dishes          NaN\n",
       "Chicken-Fajita-1603524                          Main Dishes          NaN\n",
       "Chicken-Fajita-Burgers-__-A-Giveaway__-1690009  Main Dishes        Lunch\n",
       "Chicken-Fajita-Chopped-Salad-1682643                 Salads        Lunch\n",
       "Chicken-Fajita-Crescent-Braid-685414            Main Dishes        Lunch\n",
       "Chicken-Fajita-Foil-Packet-Meal-1684657         Main Dishes          NaN\n",
       "Chicken-Fajita-Layered-Salad-1694369                 Salads          NaN\n",
       "Chicken-Fajita-Pasta-1057903                    Main Dishes          NaN\n",
       "Chicken-Fajita-Pasta-1613996                    Main Dishes          NaN\n",
       "Chicken-Fajita-Pizza-485276                     Main Dishes          NaN\n",
       "Chicken-Fajita-Quesadilla-1315407                     Lunch  Main Dishes\n",
       "Chicken-Fajita-Quesadillas-762588               Main Dishes        Lunch\n",
       "Chicken-Fajita-Queso-Fundido-1472908            Main Dishes          NaN\n",
       "Chicken-Fajita-Roll-Ups-1698150                 Main Dishes          NaN\n",
       "Chicken-Fajitas-1093917                         Main Dishes          NaN\n",
       "Chicken-Fajitas-1097329                         Main Dishes          NaN"
      ]
     },
     "execution_count": 50,
     "metadata": {},
     "output_type": "execute_result"
    }
   ],
   "source": [
    "courses_df.columns = ['course_a', 'course_b']\n",
    "courses_df.head(20)"
   ]
  },
  {
   "cell_type": "markdown",
   "metadata": {},
   "source": [
    "### Build Cuisine DF"
   ]
  },
  {
   "cell_type": "code",
   "execution_count": 52,
   "metadata": {
    "collapsed": false
   },
   "outputs": [
    {
     "data": {
      "text/html": [
       "<div>\n",
       "<table border=\"1\" class=\"dataframe\">\n",
       "  <thead>\n",
       "    <tr style=\"text-align: right;\">\n",
       "      <th></th>\n",
       "      <th>0</th>\n",
       "      <th>1</th>\n",
       "      <th>2</th>\n",
       "      <th>3</th>\n",
       "    </tr>\n",
       "  </thead>\n",
       "  <tbody>\n",
       "    <tr>\n",
       "      <th>5-Ingredient-Slow-Cooker-Steak-Fajitas-1547932</th>\n",
       "      <td>NaN</td>\n",
       "      <td>NaN</td>\n",
       "      <td>NaN</td>\n",
       "      <td>NaN</td>\n",
       "    </tr>\n",
       "    <tr>\n",
       "      <th>Baked-Chicken-Fajitas-1702035</th>\n",
       "      <td>NaN</td>\n",
       "      <td>NaN</td>\n",
       "      <td>NaN</td>\n",
       "      <td>NaN</td>\n",
       "    </tr>\n",
       "    <tr>\n",
       "      <th>Beef-Fajitas-1198033</th>\n",
       "      <td>Barbecue</td>\n",
       "      <td>Southwestern</td>\n",
       "      <td>Mexican</td>\n",
       "      <td>NaN</td>\n",
       "    </tr>\n",
       "    <tr>\n",
       "      <th>Beef-fajitas-336296</th>\n",
       "      <td>Barbecue</td>\n",
       "      <td>Southwestern</td>\n",
       "      <td>Mexican</td>\n",
       "      <td>NaN</td>\n",
       "    </tr>\n",
       "    <tr>\n",
       "      <th>Catfish-Fajitas-My-Recipes</th>\n",
       "      <td>NaN</td>\n",
       "      <td>NaN</td>\n",
       "      <td>NaN</td>\n",
       "      <td>NaN</td>\n",
       "    </tr>\n",
       "  </tbody>\n",
       "</table>\n",
       "</div>"
      ],
      "text/plain": [
       "                                                       0             1  \\\n",
       "5-Ingredient-Slow-Cooker-Steak-Fajitas-1547932       NaN           NaN   \n",
       "Baked-Chicken-Fajitas-1702035                        NaN           NaN   \n",
       "Beef-Fajitas-1198033                            Barbecue  Southwestern   \n",
       "Beef-fajitas-336296                             Barbecue  Southwestern   \n",
       "Catfish-Fajitas-My-Recipes                           NaN           NaN   \n",
       "\n",
       "                                                      2    3  \n",
       "5-Ingredient-Slow-Cooker-Steak-Fajitas-1547932      NaN  NaN  \n",
       "Baked-Chicken-Fajitas-1702035                       NaN  NaN  \n",
       "Beef-Fajitas-1198033                            Mexican  NaN  \n",
       "Beef-fajitas-336296                             Mexican  NaN  \n",
       "Catfish-Fajitas-My-Recipes                          NaN  NaN  "
      ]
     },
     "execution_count": 52,
     "metadata": {},
     "output_type": "execute_result"
    }
   ],
   "source": [
    "cuisine_df = pd.DataFrame(dict([ (k, pd.Series(v)) for k,v in cuisine_dict.iteritems() ])).transpose()\n",
    "cuisine_df.head(5)"
   ]
  },
  {
   "cell_type": "markdown",
   "metadata": {},
   "source": [
    "### Build Ingredients DF"
   ]
  },
  {
   "cell_type": "code",
   "execution_count": null,
   "metadata": {
    "collapsed": false
   },
   "outputs": [],
   "source": [
    "# this is one way of doing it, but will need to change\n",
    "\n",
    "ingredients_df = pd.DataFrame.from_dict(ingredients_dict, orient='index')"
   ]
  },
  {
   "cell_type": "code",
   "execution_count": null,
   "metadata": {
    "collapsed": false
   },
   "outputs": [],
   "source": [
    "ingredients_df.head()"
   ]
  },
  {
   "cell_type": "markdown",
   "metadata": {},
   "source": [
    "### Metadata Searches and Building Master Lists"
   ]
  },
  {
   "cell_type": "code",
   "execution_count": null,
   "metadata": {
    "collapsed": true
   },
   "outputs": [],
   "source": [
    "# Search for valid course terms\n",
    "\n",
    "meta_search_ingredient = requests.get('http://api.yummly.com/v1/api/metadata/ingredient?', headers=headers)"
   ]
  },
  {
   "cell_type": "code",
   "execution_count": null,
   "metadata": {
    "collapsed": true
   },
   "outputs": [],
   "source": [
    "# Search for valid holiday terms\n",
    "\n",
    "meta_search_course = requests.get('http://api.yummly.com/v1/api/metadata/course?', headers=headers)"
   ]
  },
  {
   "cell_type": "code",
   "execution_count": null,
   "metadata": {
    "collapsed": true
   },
   "outputs": [],
   "source": [
    "# Search for valid cuisine terms\n",
    "\n",
    "meta_search_cuisine = requests.get('http://api.yummly.com/v1/api/metadata/cuisine?', headers=headers)"
   ]
  },
  {
   "cell_type": "code",
   "execution_count": null,
   "metadata": {
    "collapsed": true
   },
   "outputs": [],
   "source": []
  },
  {
   "cell_type": "code",
   "execution_count": null,
   "metadata": {
    "collapsed": false
   },
   "outputs": [],
   "source": [
    "meta_search_course.status_code"
   ]
  },
  {
   "cell_type": "code",
   "execution_count": null,
   "metadata": {
    "collapsed": false
   },
   "outputs": [],
   "source": [
    "meta_search_course.text"
   ]
  },
  {
   "cell_type": "code",
   "execution_count": null,
   "metadata": {
    "collapsed": false
   },
   "outputs": [],
   "source": [
    "# Can't do .json() for metadata response, instead do .text\n",
    "\n",
    "# response = meta_search_ingredient.text[26:-2]\n",
    "response = meta_search_course.text[23:-2]"
   ]
  },
  {
   "cell_type": "code",
   "execution_count": null,
   "metadata": {
    "collapsed": false
   },
   "outputs": [],
   "source": [
    "course_list = json.loads(response)"
   ]
  },
  {
   "cell_type": "code",
   "execution_count": null,
   "metadata": {
    "collapsed": false
   },
   "outputs": [],
   "source": [
    "course_list[11]"
   ]
  },
  {
   "cell_type": "code",
   "execution_count": null,
   "metadata": {
    "collapsed": true
   },
   "outputs": [],
   "source": [
    "master_courses = []\n",
    "for course in course_list:\n",
    "    master_courses.append(course['description'])"
   ]
  },
  {
   "cell_type": "code",
   "execution_count": null,
   "metadata": {
    "collapsed": true
   },
   "outputs": [],
   "source": [
    "master_ingredients = []"
   ]
  },
  {
   "cell_type": "code",
   "execution_count": null,
   "metadata": {
    "collapsed": false
   },
   "outputs": [],
   "source": [
    "for ingr in thing:\n",
    "    master_ingredients.append(ingr['description'])"
   ]
  },
  {
   "cell_type": "code",
   "execution_count": null,
   "metadata": {
    "collapsed": false
   },
   "outputs": [],
   "source": [
    "master_ingr_series = pd.Series(master_ingredients)"
   ]
  },
  {
   "cell_type": "code",
   "execution_count": null,
   "metadata": {
    "collapsed": false
   },
   "outputs": [],
   "source": [
    "# master_ingr_series.to_csv('master_ingredients', encoding='utf-8')"
   ]
  },
  {
   "cell_type": "code",
   "execution_count": null,
   "metadata": {
    "collapsed": false
   },
   "outputs": [],
   "source": [
    "ind_recipe = requests.get('http://api.yummly.com/v1/api/recipe/French-Onion-Soup-The-Pioneer-Woman-Cooks-_-Ree-Drummond-41364?_app_id=e2b9bebc&_app_key=4193215272970d956cfd5384a08580a9')"
   ]
  },
  {
   "cell_type": "code",
   "execution_count": null,
   "metadata": {
    "collapsed": true
   },
   "outputs": [],
   "source": [
    "french_id = 'French-Onion-Soup-The-Pioneer-Woman-Cooks-_-Ree-Drummond-41364'"
   ]
  },
  {
   "cell_type": "code",
   "execution_count": null,
   "metadata": {
    "collapsed": true
   },
   "outputs": [],
   "source": [
    "get_recipe_url = 'http://api.yummly.com/v1/api/recipe/'"
   ]
  },
  {
   "cell_type": "code",
   "execution_count": null,
   "metadata": {
    "collapsed": true
   },
   "outputs": [],
   "source": [
    "id_and_key = '_app_id=e2b9bebc&_app_key=4193215272970d956cfd5384a08580a9'"
   ]
  },
  {
   "cell_type": "code",
   "execution_count": null,
   "metadata": {
    "collapsed": false
   },
   "outputs": [],
   "source": [
    "get_recipe_url + french_id + '?' + id_and_key"
   ]
  },
  {
   "cell_type": "code",
   "execution_count": null,
   "metadata": {
    "collapsed": true
   },
   "outputs": [],
   "source": [
    "id_parameters = {'recipe_id': 'French-Onion-Soup-The-Pioneer-Woman-Cooks-_-Ree-Drummond-41364'}"
   ]
  },
  {
   "cell_type": "code",
   "execution_count": null,
   "metadata": {
    "collapsed": true
   },
   "outputs": [],
   "source": [
    "veal_scaloppine = requests.get(get_recipe_url, headers=headers, params=id_parameters)"
   ]
  },
  {
   "cell_type": "code",
   "execution_count": null,
   "metadata": {
    "collapsed": false
   },
   "outputs": [],
   "source": [
    "veal_scaloppine.status_code"
   ]
  },
  {
   "cell_type": "code",
   "execution_count": null,
   "metadata": {
    "collapsed": false
   },
   "outputs": [],
   "source": [
    "ind_recipe.status_code"
   ]
  },
  {
   "cell_type": "code",
   "execution_count": null,
   "metadata": {
    "collapsed": true
   },
   "outputs": [],
   "source": [
    "another_try = requests.get(get_recipe_url + french_id + '?' + id_and_key)"
   ]
  },
  {
   "cell_type": "code",
   "execution_count": null,
   "metadata": {
    "collapsed": false
   },
   "outputs": [],
   "source": [
    "another_try.status_code"
   ]
  },
  {
   "cell_type": "code",
   "execution_count": null,
   "metadata": {
    "collapsed": true
   },
   "outputs": [],
   "source": [
    "guac_ids = []\n",
    "for item in guac['matches']:\n",
    "    guac_ids.append(item.get('id'))"
   ]
  },
  {
   "cell_type": "code",
   "execution_count": null,
   "metadata": {
    "collapsed": false
   },
   "outputs": [],
   "source": [
    "thingy = another_try.json()"
   ]
  },
  {
   "cell_type": "code",
   "execution_count": null,
   "metadata": {
    "collapsed": true
   },
   "outputs": [],
   "source": []
  },
  {
   "cell_type": "code",
   "execution_count": null,
   "metadata": {
    "collapsed": false
   },
   "outputs": [],
   "source": [
    "thingy.keys()"
   ]
  },
  {
   "cell_type": "code",
   "execution_count": null,
   "metadata": {
    "collapsed": false
   },
   "outputs": [],
   "source": [
    "thingy['numberOfServings']"
   ]
  },
  {
   "cell_type": "code",
   "execution_count": null,
   "metadata": {
    "collapsed": false
   },
   "outputs": [],
   "source": [
    "ids_series = pd.Series(ids)"
   ]
  },
  {
   "cell_type": "code",
   "execution_count": null,
   "metadata": {
    "collapsed": true
   },
   "outputs": [],
   "source": [
    "guac_ids_series = pd.Series(guac_ids)"
   ]
  },
  {
   "cell_type": "code",
   "execution_count": null,
   "metadata": {
    "collapsed": true
   },
   "outputs": [],
   "source": [
    "# guac_ids_series.to_csv('guac_ids')"
   ]
  },
  {
   "cell_type": "code",
   "execution_count": null,
   "metadata": {
    "collapsed": true
   },
   "outputs": [],
   "source": []
  }
 ],
 "metadata": {
  "kernelspec": {
   "display_name": "Python 2",
   "language": "python",
   "name": "python2"
  },
  "language_info": {
   "codemirror_mode": {
    "name": "ipython",
    "version": 2
   },
   "file_extension": ".py",
   "mimetype": "text/x-python",
   "name": "python",
   "nbconvert_exporter": "python",
   "pygments_lexer": "ipython2",
   "version": "2.7.11"
  }
 },
 "nbformat": 4,
 "nbformat_minor": 0
}
