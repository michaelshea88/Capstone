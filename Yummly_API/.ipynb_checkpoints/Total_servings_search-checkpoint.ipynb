{
 "cells": [
  {
   "cell_type": "markdown",
   "metadata": {},
   "source": [
    "# Adding number of servings to our data"
   ]
  },
  {
   "cell_type": "markdown",
   "metadata": {},
   "source": [
    "We need number servings (and any other important info) from individual recipe detail and putting in table to merge later on. Testing this process on two temporary files, pesto.txt and guac.txt.\n",
    "\n",
    "I couldn't figure out how to do the recipe-detail API call with parameters like before, so below uses a different method. Works though!"
   ]
  },
  {
   "cell_type": "code",
   "execution_count": 1,
   "metadata": {
    "collapsed": true
   },
   "outputs": [],
   "source": [
    "import requests\n",
    "import json\n",
    "import pandas as pd\n",
    "import numpy as np"
   ]
  },
  {
   "cell_type": "code",
   "execution_count": 3,
   "metadata": {
    "collapsed": true
   },
   "outputs": [],
   "source": [
    "# create base url variable\n",
    "get_recipe_url = 'http://api.yummly.com/v1/api/recipe/'\n",
    "\n",
    "# create id and key variable\n",
    "mike_id_and_key = '_app_id=e2b9bebc&_app_key=4193215272970d956cfd5384a08580a9'\n",
    "bruk_id_and_key = '_app_id=79663a75&_app_key=02b233108f476f3110e0f65437c4d6dd'"
   ]
  },
  {
   "cell_type": "code",
   "execution_count": 4,
   "metadata": {
    "collapsed": false
   },
   "outputs": [],
   "source": [
    "# example API pull with one ID\n",
    "\n",
    "toy_id = 'French-Onion-Soup-1332461'\n",
    "\n",
    "response = requests.get(get_recipe_url + toy_id + '?' + bruk_id_and_key)"
   ]
  },
  {
   "cell_type": "code",
   "execution_count": 5,
   "metadata": {
    "collapsed": false
   },
   "outputs": [
    {
     "name": "stdout",
     "output_type": "stream",
     "text": [
      "200\n"
     ]
    }
   ],
   "source": [
    "# check status code\n",
    "print response.status_code"
   ]
  },
  {
   "cell_type": "code",
   "execution_count": 7,
   "metadata": {
    "collapsed": false,
    "scrolled": true
   },
   "outputs": [
    {
     "name": "stdout",
     "output_type": "stream",
     "text": [
      "[u'totalTime', u'ingredientLines', u'attribution', u'name', u'rating', u'numberOfServings', u'yield', u'nutritionEstimates', u'source', u'flavors', u'images', u'attributes', u'id', u'totalTimeInSeconds']\n",
      "ID:  French-Onion-Soup-1332461\n",
      "6\n"
     ]
    }
   ],
   "source": [
    "# view output\n",
    "data = response.json()\n",
    "print data.keys()\n",
    "print \"ID: \", data['id']\n",
    "print data['numberOfServings']"
   ]
  },
  {
   "cell_type": "code",
   "execution_count": null,
   "metadata": {
    "collapsed": true
   },
   "outputs": [],
   "source": []
  }
 ],
 "metadata": {
  "kernelspec": {
   "display_name": "Python 2",
   "language": "python",
   "name": "python2"
  },
  "language_info": {
   "codemirror_mode": {
    "name": "ipython",
    "version": 2
   },
   "file_extension": ".py",
   "mimetype": "text/x-python",
   "name": "python",
   "nbconvert_exporter": "python",
   "pygments_lexer": "ipython2",
   "version": "2.7.11"
  }
 },
 "nbformat": 4,
 "nbformat_minor": 0
}
