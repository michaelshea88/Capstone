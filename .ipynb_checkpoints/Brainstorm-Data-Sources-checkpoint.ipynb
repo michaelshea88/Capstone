{
 "cells": [
  {
   "cell_type": "markdown",
   "metadata": {},
   "source": [
    "## Prior Analyses"
   ]
  },
  {
   "cell_type": "markdown",
   "metadata": {},
   "source": [
    "#### Predict recipe ratings\n",
    "\n",
    "Given a pair of similar recipes, determine which one has higher average rating than the other. \n",
    "- This task is designed particularly to help users with a specific dish or meal in mind, and who are trying to decide between several recipe options for that dish.\n",
    "    - Work on this topic\n",
    "        - Paper https://arxiv.org/pdf/1111.3919.pdf\n",
    "        - Abstract http://arxiv.org/abs/1111.3919\n",
    "        - Writeup http://www.npr.org/sections/thesalt/2012/11/19/165294248/could-nate-silver-predict-how-good-your-pumpkin-pie-will-be\n",
    "        - Blog post http://www.ladamic.com/wordpress/?s=ingredient&searchsubmit="
   ]
  },
  {
   "cell_type": "markdown",
   "metadata": {},
   "source": [
    "#### Mapping food pairings\n",
    "\n",
    "Identify patterns in the use of complementary ingredients.\n",
    "- This task is designed to view how different cultures pair ingredients\n",
    "    - Work on this topic\n",
    "        - Paper http://www.nature.com/articles/srep00196\n",
    "        - Writeup http://www.wired.com/2013/11/a-new-kind-of-food-science/\n",
    "        - Blog post http://blog.bruggen.com/2013/12/fascinating-food-networks-in-neo4j.html\n",
    "    "
   ]
  },
  {
   "cell_type": "markdown",
   "metadata": {},
   "source": [
    "#### Use NLP to Interpret Recipes\n",
    "\n",
    "The New York Times did a machine learning project using NLP to take raw text from a recipe and predict what the ingredients and quantities were.\n",
    "- http://open.blogs.nytimes.com/2016/04/27/structured-ingredients-data-tagging/?_r=1\n",
    "- https://github.com/NYTimes/ingredient-phrase-tagger?version=meter+at+0&module=meter-Links&pgtype=Blogs&contentId=&mediaId=&referrer=&priority=true&action=click&contentCollection=meter-links-click"
   ]
  },
  {
   "cell_type": "markdown",
   "metadata": {},
   "source": [
    "#### Other projects\n",
    "\n",
    "Recipe recommendation\n",
    "- http://cs229.stanford.edu/proj2013/DengSafreno-TheRecipeLearner.pdf\n",
    "- http://www.princeton.edu/~jmcohen/recipe-recommendation.pdf"
   ]
  },
  {
   "cell_type": "code",
   "execution_count": null,
   "metadata": {
    "collapsed": true
   },
   "outputs": [],
   "source": []
  }
 ],
 "metadata": {
  "kernelspec": {
   "display_name": "Python 2",
   "language": "python",
   "name": "python2"
  },
  "language_info": {
   "codemirror_mode": {
    "name": "ipython",
    "version": 2
   },
   "file_extension": ".py",
   "mimetype": "text/x-python",
   "name": "python",
   "nbconvert_exporter": "python",
   "pygments_lexer": "ipython2",
   "version": "2.7.11"
  }
 },
 "nbformat": 4,
 "nbformat_minor": 0
}
