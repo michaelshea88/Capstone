{
 "cells": [
  {
   "cell_type": "markdown",
   "metadata": {},
   "source": [
    "# Searching for Main Courses by Cuisine"
   ]
  },
  {
   "cell_type": "markdown",
   "metadata": {},
   "source": [
    "## 1. Get apprpriate search parameters"
   ]
  },
  {
   "cell_type": "code",
   "execution_count": 1,
   "metadata": {
    "collapsed": true
   },
   "outputs": [],
   "source": [
    "import requests\n",
    "import pandas as pd\n",
    "import numpy as np\n",
    "import json\n",
    "import re\n",
    "from sklearn.feature_extraction.text import CountVectorizer"
   ]
  },
  {
   "cell_type": "code",
   "execution_count": 2,
   "metadata": {
    "collapsed": false
   },
   "outputs": [],
   "source": [
    "# Course search terms\n",
    "allowedCourse = requests.get('http://api.yummly.com/v1/api/metadata/course?_app_id=e2b9bebc&_app_key=4193215272970d956cfd5384a08580a9')\n",
    "\n",
    "# Cuisine search terms\n",
    "allowedCuisine = requests.get('http://api.yummly.com/v1/api/metadata/cuisine?_app_id=e2b9bebc&_app_key=4193215272970d956cfd5384a08580a9')"
   ]
  },
  {
   "cell_type": "code",
   "execution_count": 3,
   "metadata": {
    "collapsed": false
   },
   "outputs": [],
   "source": [
    "# Slice crap off beggining and end\n",
    "response_course = allowedCourse.text[23:-2]\n",
    "response_cuisine = allowedCuisine.text[24:-2]"
   ]
  },
  {
   "cell_type": "code",
   "execution_count": 4,
   "metadata": {
    "collapsed": false
   },
   "outputs": [
    {
     "name": "stdout",
     "output_type": "stream",
     "text": [
      "[u'course^course-Main Dishes', u'course^course-Desserts', u'course^course-Side Dishes', u'course^course-Appetizers', u'course^course-Salads', u'course^course-Breakfast and Brunch', u'course^course-Breads', u'course^course-Soups', u'course^course-Beverages', u'course^course-Condiments and Sauces', u'course^course-Cocktails', u'course^course-Snacks', u'course^course-Lunch']\n",
      "[u'cuisine^cuisine-american', u'cuisine^cuisine-kid-friendly', u'cuisine^cuisine-italian', u'cuisine^cuisine-asian', u'cuisine^cuisine-mexican', u'cuisine^cuisine-southern', u'cuisine^cuisine-french', u'cuisine^cuisine-southwestern', u'cuisine^cuisine-barbecue-bbq', u'cuisine^cuisine-indian', u'cuisine^cuisine-chinese', u'cuisine^cuisine-cajun', u'cuisine^cuisine-mediterranean', u'cuisine^cuisine-greek', u'cuisine^cuisine-english', u'cuisine^cuisine-spanish', u'cuisine^cuisine-thai', u'cuisine^cuisine-german', u'cuisine^cuisine-moroccan', u'cuisine^cuisine-irish', u'cuisine^cuisine-japanese', u'cuisine^cuisine-cuban', u'cuisine^cuisine-hawaiian', u'cuisine^cuisine-swedish', u'cuisine^cuisine-hungarian', u'cuisine^cuisine-portuguese']\n"
     ]
    }
   ],
   "source": [
    "# Print search terms\n",
    "course_list = json.loads(response_course)\n",
    "cuisine_list = json.loads(response_cuisine)\n",
    "print [x['searchValue'] for x in course_list]\n",
    "print [x['searchValue'] for x in cuisine_list]"
   ]
  },
  {
   "cell_type": "markdown",
   "metadata": {},
   "source": [
    "## 2. Begin querying API"
   ]
  },
  {
   "cell_type": "markdown",
   "metadata": {},
   "source": [
    "### Main courses / American"
   ]
  },
  {
   "cell_type": "code",
   "execution_count": 93,
   "metadata": {
    "collapsed": true
   },
   "outputs": [],
   "source": [
    "url = 'http://api.yummly.com/v1/api/recipes?'\n",
    "headers = {'X-Yummly-App-ID':'e2b9bebc', 'X-Yummly-App-Key':'4193215272970d956cfd5384a08580a9'}"
   ]
  },
  {
   "cell_type": "code",
   "execution_count": 94,
   "metadata": {
    "collapsed": false
   },
   "outputs": [],
   "source": [
    "parameters = {'allowedCourse[]': 'course^course-Main Dishes', \n",
    "              'excludedCourse[]': ['course^course-Appetizers', 'course^course-Salads', \n",
    "                                   'course^course-Condiments and Sauces',\n",
    "                                   'course^course-Lunch', 'course^course-Soups', 'course^course-Snacks',\n",
    "                                   'course^course-Breakfast and Brunch', 'course^course-Side Dishes',],\n",
    "              'allowedCuisine[]': 'cuisine^cuisine-american',\n",
    "              'excludedCuisine[]': ['cuisine^cuisine-italian', 'cuisine^cuisine-mexican', 'cuisine^cuisine-indian',\n",
    "                                    'cuisine^cuisine-mediterranean', 'cuisine^cuisine-asian'],\n",
    "              'maxResult': 500}"
   ]
  },
  {
   "cell_type": "code",
   "execution_count": 95,
   "metadata": {
    "collapsed": false
   },
   "outputs": [],
   "source": [
    "response = requests.get(url, headers=headers, params=parameters)"
   ]
  },
  {
   "cell_type": "code",
   "execution_count": 96,
   "metadata": {
    "collapsed": false
   },
   "outputs": [
    {
     "data": {
      "text/plain": [
       "200"
      ]
     },
     "execution_count": 96,
     "metadata": {},
     "output_type": "execute_result"
    }
   ],
   "source": [
    "response.status_code"
   ]
  },
  {
   "cell_type": "code",
   "execution_count": 97,
   "metadata": {
    "collapsed": false
   },
   "outputs": [
    {
     "name": "stdout",
     "output_type": "stream",
     "text": [
      "<type 'dict'>\n",
      "[u'matches', u'totalMatchCount', u'attribution', u'facetCounts', u'criteria']\n",
      "2970\n"
     ]
    }
   ],
   "source": [
    "# Decode JSON\n",
    "api_call = response.json()\n",
    "print type(api_call)\n",
    "\n",
    "# Print keys\n",
    "response_keys = api_call.keys()\n",
    "print response_keys\n",
    "\n",
    "# Print total match count\n",
    "print api_call['totalMatchCount']"
   ]
  },
  {
   "cell_type": "code",
   "execution_count": 111,
   "metadata": {
    "collapsed": true
   },
   "outputs": [],
   "source": [
    "# Create dicts to put data into\n",
    "\n",
    "recipe_info_dict = {}\n",
    "flavors_dict = {}\n",
    "ingredients_dict = {}\n",
    "courses_dict = {}\n",
    "cuisine_dict = {}"
   ]
  },
  {
   "cell_type": "code",
   "execution_count": 112,
   "metadata": {
    "collapsed": true
   },
   "outputs": [],
   "source": [
    "# pull data in for loop\n",
    "for item in api_call['matches']:\n",
    "    \n",
    "    # Get basic recipe info and put into list\n",
    "    recipe_info = []\n",
    "    recipe_info.append(item.get('recipeName'))\n",
    "    recipe_info.append(item.get('totalTimeInSeconds'))\n",
    "    recipe_info.append(item.get('sourceDisplayName'))\n",
    "    recipe_info.append(len(item.get('ingredients')))\n",
    "    recipe_info.append(item['attributes'].get('course'))\n",
    "    recipe_info.append(item.get('rating'))\n",
    "    recipe_info.append('American')\n",
    "    \n",
    "    # Add to recipe_info_dict\n",
    "    recipe_info_dict[item.get('id')] = recipe_info\n",
    "    \n",
    "    # Add data to dicts for flavors and cuisines\n",
    "    flavors_dict[item.get('id')] = item.get('flavors')\n",
    "    cuisine_dict[item.get('id')] = item['attributes'].get('cuisine')\n",
    "    \n",
    "    # Process ingredients before putting in dictionary\n",
    "    ingredient_string = ' '.join(item.get('ingredients')) # convert list to string\n",
    "    ingredient_string = re.sub(r'\\d+%\\s', '', ingredient_string) # regex remove 1%, 2% etc\n",
    "    ingredient_string = re.sub(r'\\xae', '', ingredient_string) # regex remove \\xae characters\n",
    "    \n",
    "    # Add ingredients to dict now\n",
    "    ingredients_dict[item.get('id')] = ingredient_string "
   ]
  },
  {
   "cell_type": "markdown",
   "metadata": {},
   "source": [
    "#### Recipe info df"
   ]
  },
  {
   "cell_type": "code",
   "execution_count": 12,
   "metadata": {
    "collapsed": false
   },
   "outputs": [],
   "source": [
    "recipe_info_df = pd.DataFrame.from_dict(recipe_info_dict, orient='index')\n",
    "\n",
    "recipe_info_df.columns = ['rec_name', 'tot_time_seconds', 'rec_source', \n",
    "                          'num_ingredients', 'course', 'rating', 'cuisine']"
   ]
  },
  {
   "cell_type": "markdown",
   "metadata": {},
   "source": [
    "#### Flavor df"
   ]
  },
  {
   "cell_type": "code",
   "execution_count": 13,
   "metadata": {
    "collapsed": true
   },
   "outputs": [],
   "source": [
    "flavor_df = pd.DataFrame(flavors_dict).transpose()"
   ]
  },
  {
   "cell_type": "markdown",
   "metadata": {},
   "source": [
    "#### Ingredient df"
   ]
  },
  {
   "cell_type": "code",
   "execution_count": 113,
   "metadata": {
    "collapsed": false
   },
   "outputs": [],
   "source": [
    "ingredients_df = pd.DataFrame.from_dict(ingredients_dict, orient='index')\n",
    "ingredients_df.columns = ['Ingredients']"
   ]
  },
  {
   "cell_type": "code",
   "execution_count": 114,
   "metadata": {
    "collapsed": false
   },
   "outputs": [
    {
     "data": {
      "text/plain": [
       "unicode"
      ]
     },
     "execution_count": 114,
     "metadata": {},
     "output_type": "execute_result"
    }
   ],
   "source": [
    "type(ingredients_df.Ingredients[0])"
   ]
  },
  {
   "cell_type": "code",
   "execution_count": 115,
   "metadata": {
    "collapsed": false
   },
   "outputs": [
    {
     "data": {
      "text/plain": [
       "CountVectorizer(analyzer=u'word', binary=False, decode_error=u'strict',\n",
       "        dtype=<type 'numpy.int64'>, encoding=u'utf-8', input=u'content',\n",
       "        lowercase=True, max_df=1.0, max_features=None, min_df=1,\n",
       "        ngram_range=(1, 1), preprocessor=None, stop_words='english',\n",
       "        strip_accents=None, token_pattern=u'(?u)\\\\b\\\\w\\\\w+\\\\b',\n",
       "        tokenizer=None, vocabulary=None)"
      ]
     },
     "execution_count": 115,
     "metadata": {},
     "output_type": "execute_result"
    }
   ],
   "source": [
    "vect = CountVectorizer(stop_words='english')\n",
    "vect.fit(ingredients_df.Ingredients)"
   ]
  },
  {
   "cell_type": "code",
   "execution_count": 116,
   "metadata": {
    "collapsed": false
   },
   "outputs": [
    {
     "data": {
      "text/plain": [
       "array([[0, 0, 0, ..., 0, 0, 0],\n",
       "       [0, 0, 0, ..., 0, 0, 0],\n",
       "       [0, 0, 0, ..., 0, 1, 0],\n",
       "       ..., \n",
       "       [0, 0, 0, ..., 0, 0, 0],\n",
       "       [0, 0, 0, ..., 0, 0, 0],\n",
       "       [0, 0, 0, ..., 0, 0, 0]])"
      ]
     },
     "execution_count": 116,
     "metadata": {},
     "output_type": "execute_result"
    }
   ],
   "source": [
    "dtm = vect.transform(ingredients_df.Ingredients)\n",
    "dtm.toarray()"
   ]
  },
  {
   "cell_type": "code",
   "execution_count": 135,
   "metadata": {
    "collapsed": false
   },
   "outputs": [
    {
     "data": {
      "text/html": [
       "<div>\n",
       "<table border=\"1\" class=\"dataframe\">\n",
       "  <thead>\n",
       "    <tr style=\"text-align: right;\">\n",
       "      <th></th>\n",
       "      <th>acorn</th>\n",
       "      <th>adobo</th>\n",
       "      <th>allspice</th>\n",
       "      <th>almonds</th>\n",
       "      <th>american</th>\n",
       "      <th>ancho</th>\n",
       "      <th>andouille</th>\n",
       "      <th>apple</th>\n",
       "      <th>apples</th>\n",
       "      <th>apricots</th>\n",
       "      <th>...</th>\n",
       "      <th>wing</th>\n",
       "      <th>wondra</th>\n",
       "      <th>worcestershire</th>\n",
       "      <th>yellow</th>\n",
       "      <th>yoghurt</th>\n",
       "      <th>yogurt</th>\n",
       "      <th>york</th>\n",
       "      <th>yukon</th>\n",
       "      <th>zest</th>\n",
       "      <th>zucchini</th>\n",
       "    </tr>\n",
       "  </thead>\n",
       "  <tbody>\n",
       "    <tr>\n",
       "      <th>Pressure-Cooker-Chicken_-Sausage-and-Shrimp-Jambalaya---Instant-Pot-1502891</th>\n",
       "      <td>0</td>\n",
       "      <td>0</td>\n",
       "      <td>0</td>\n",
       "      <td>0</td>\n",
       "      <td>0</td>\n",
       "      <td>0</td>\n",
       "      <td>0</td>\n",
       "      <td>0</td>\n",
       "      <td>0</td>\n",
       "      <td>0</td>\n",
       "      <td>...</td>\n",
       "      <td>0</td>\n",
       "      <td>0</td>\n",
       "      <td>1</td>\n",
       "      <td>0</td>\n",
       "      <td>0</td>\n",
       "      <td>0</td>\n",
       "      <td>0</td>\n",
       "      <td>0</td>\n",
       "      <td>0</td>\n",
       "      <td>0</td>\n",
       "    </tr>\n",
       "    <tr>\n",
       "      <th>Grilled-New-Orleans_style-Shrimp-Epicurious</th>\n",
       "      <td>0</td>\n",
       "      <td>0</td>\n",
       "      <td>0</td>\n",
       "      <td>0</td>\n",
       "      <td>0</td>\n",
       "      <td>0</td>\n",
       "      <td>0</td>\n",
       "      <td>0</td>\n",
       "      <td>0</td>\n",
       "      <td>0</td>\n",
       "      <td>...</td>\n",
       "      <td>0</td>\n",
       "      <td>0</td>\n",
       "      <td>1</td>\n",
       "      <td>0</td>\n",
       "      <td>0</td>\n",
       "      <td>0</td>\n",
       "      <td>0</td>\n",
       "      <td>0</td>\n",
       "      <td>0</td>\n",
       "      <td>0</td>\n",
       "    </tr>\n",
       "    <tr>\n",
       "      <th>Citrus_rubbed-Skirt-Steak-My-Recipes</th>\n",
       "      <td>0</td>\n",
       "      <td>0</td>\n",
       "      <td>0</td>\n",
       "      <td>0</td>\n",
       "      <td>0</td>\n",
       "      <td>0</td>\n",
       "      <td>0</td>\n",
       "      <td>0</td>\n",
       "      <td>0</td>\n",
       "      <td>0</td>\n",
       "      <td>...</td>\n",
       "      <td>0</td>\n",
       "      <td>0</td>\n",
       "      <td>0</td>\n",
       "      <td>0</td>\n",
       "      <td>0</td>\n",
       "      <td>0</td>\n",
       "      <td>0</td>\n",
       "      <td>0</td>\n",
       "      <td>1</td>\n",
       "      <td>0</td>\n",
       "    </tr>\n",
       "    <tr>\n",
       "      <th>Baked-Flounder-with-Fresh-Lemon-Pepper-1633060</th>\n",
       "      <td>0</td>\n",
       "      <td>0</td>\n",
       "      <td>0</td>\n",
       "      <td>0</td>\n",
       "      <td>0</td>\n",
       "      <td>0</td>\n",
       "      <td>0</td>\n",
       "      <td>0</td>\n",
       "      <td>0</td>\n",
       "      <td>0</td>\n",
       "      <td>...</td>\n",
       "      <td>0</td>\n",
       "      <td>0</td>\n",
       "      <td>0</td>\n",
       "      <td>0</td>\n",
       "      <td>0</td>\n",
       "      <td>0</td>\n",
       "      <td>0</td>\n",
       "      <td>0</td>\n",
       "      <td>1</td>\n",
       "      <td>0</td>\n",
       "    </tr>\n",
       "    <tr>\n",
       "      <th>Roasted-Oysters-Decadence-My-Recipes</th>\n",
       "      <td>0</td>\n",
       "      <td>0</td>\n",
       "      <td>0</td>\n",
       "      <td>0</td>\n",
       "      <td>0</td>\n",
       "      <td>0</td>\n",
       "      <td>0</td>\n",
       "      <td>0</td>\n",
       "      <td>0</td>\n",
       "      <td>0</td>\n",
       "      <td>...</td>\n",
       "      <td>0</td>\n",
       "      <td>0</td>\n",
       "      <td>0</td>\n",
       "      <td>0</td>\n",
       "      <td>0</td>\n",
       "      <td>0</td>\n",
       "      <td>0</td>\n",
       "      <td>0</td>\n",
       "      <td>0</td>\n",
       "      <td>0</td>\n",
       "    </tr>\n",
       "  </tbody>\n",
       "</table>\n",
       "<p>5 rows × 655 columns</p>\n",
       "</div>"
      ],
      "text/plain": [
       "                                                    acorn  adobo  allspice  \\\n",
       "Pressure-Cooker-Chicken_-Sausage-and-Shrimp-Jam...      0      0         0   \n",
       "Grilled-New-Orleans_style-Shrimp-Epicurious             0      0         0   \n",
       "Citrus_rubbed-Skirt-Steak-My-Recipes                    0      0         0   \n",
       "Baked-Flounder-with-Fresh-Lemon-Pepper-1633060          0      0         0   \n",
       "Roasted-Oysters-Decadence-My-Recipes                    0      0         0   \n",
       "\n",
       "                                                    almonds  american  ancho  \\\n",
       "Pressure-Cooker-Chicken_-Sausage-and-Shrimp-Jam...        0         0      0   \n",
       "Grilled-New-Orleans_style-Shrimp-Epicurious               0         0      0   \n",
       "Citrus_rubbed-Skirt-Steak-My-Recipes                      0         0      0   \n",
       "Baked-Flounder-with-Fresh-Lemon-Pepper-1633060            0         0      0   \n",
       "Roasted-Oysters-Decadence-My-Recipes                      0         0      0   \n",
       "\n",
       "                                                    andouille  apple  apples  \\\n",
       "Pressure-Cooker-Chicken_-Sausage-and-Shrimp-Jam...          0      0       0   \n",
       "Grilled-New-Orleans_style-Shrimp-Epicurious                 0      0       0   \n",
       "Citrus_rubbed-Skirt-Steak-My-Recipes                        0      0       0   \n",
       "Baked-Flounder-with-Fresh-Lemon-Pepper-1633060              0      0       0   \n",
       "Roasted-Oysters-Decadence-My-Recipes                        0      0       0   \n",
       "\n",
       "                                                    apricots    ...     wing  \\\n",
       "Pressure-Cooker-Chicken_-Sausage-and-Shrimp-Jam...         0    ...        0   \n",
       "Grilled-New-Orleans_style-Shrimp-Epicurious                0    ...        0   \n",
       "Citrus_rubbed-Skirt-Steak-My-Recipes                       0    ...        0   \n",
       "Baked-Flounder-with-Fresh-Lemon-Pepper-1633060             0    ...        0   \n",
       "Roasted-Oysters-Decadence-My-Recipes                       0    ...        0   \n",
       "\n",
       "                                                    wondra  worcestershire  \\\n",
       "Pressure-Cooker-Chicken_-Sausage-and-Shrimp-Jam...       0               1   \n",
       "Grilled-New-Orleans_style-Shrimp-Epicurious              0               1   \n",
       "Citrus_rubbed-Skirt-Steak-My-Recipes                     0               0   \n",
       "Baked-Flounder-with-Fresh-Lemon-Pepper-1633060           0               0   \n",
       "Roasted-Oysters-Decadence-My-Recipes                     0               0   \n",
       "\n",
       "                                                    yellow  yoghurt  yogurt  \\\n",
       "Pressure-Cooker-Chicken_-Sausage-and-Shrimp-Jam...       0        0       0   \n",
       "Grilled-New-Orleans_style-Shrimp-Epicurious              0        0       0   \n",
       "Citrus_rubbed-Skirt-Steak-My-Recipes                     0        0       0   \n",
       "Baked-Flounder-with-Fresh-Lemon-Pepper-1633060           0        0       0   \n",
       "Roasted-Oysters-Decadence-My-Recipes                     0        0       0   \n",
       "\n",
       "                                                    york  yukon  zest  \\\n",
       "Pressure-Cooker-Chicken_-Sausage-and-Shrimp-Jam...     0      0     0   \n",
       "Grilled-New-Orleans_style-Shrimp-Epicurious            0      0     0   \n",
       "Citrus_rubbed-Skirt-Steak-My-Recipes                   0      0     1   \n",
       "Baked-Flounder-with-Fresh-Lemon-Pepper-1633060         0      0     1   \n",
       "Roasted-Oysters-Decadence-My-Recipes                   0      0     0   \n",
       "\n",
       "                                                    zucchini  \n",
       "Pressure-Cooker-Chicken_-Sausage-and-Shrimp-Jam...         0  \n",
       "Grilled-New-Orleans_style-Shrimp-Epicurious                0  \n",
       "Citrus_rubbed-Skirt-Steak-My-Recipes                       0  \n",
       "Baked-Flounder-with-Fresh-Lemon-Pepper-1633060             0  \n",
       "Roasted-Oysters-Decadence-My-Recipes                       0  \n",
       "\n",
       "[5 rows x 655 columns]"
      ]
     },
     "execution_count": 135,
     "metadata": {},
     "output_type": "execute_result"
    }
   ],
   "source": [
    "df = pd.DataFrame(dtm.toarray(), columns=vect.get_feature_names(), index=ingredients_df.index)\n",
    "df.head()"
   ]
  },
  {
   "cell_type": "code",
   "execution_count": 126,
   "metadata": {
    "collapsed": true
   },
   "outputs": [],
   "source": [
    "from nltk import word_tokenize\n",
    "from nltk import pos_tag"
   ]
  },
  {
   "cell_type": "code",
   "execution_count": 133,
   "metadata": {
    "collapsed": false
   },
   "outputs": [],
   "source": [
    "text = word_tokenize(ingredients_df.Ingredients[2]) "
   ]
  },
  {
   "cell_type": "code",
   "execution_count": 128,
   "metadata": {
    "collapsed": false
   },
   "outputs": [],
   "source": [
    "# for i in pos_tag(text):\n",
    "#     if i[1] == 'JJ':\n",
    "#         print i[0]\n",
    "#     elif i[1] == 'VBZ':\n",
    "#         print i[0]\n",
    "#     elif i[1] == 'VBG':\n",
    "#         print i[0]"
   ]
  },
  {
   "cell_type": "code",
   "execution_count": 134,
   "metadata": {
    "collapsed": false
   },
   "outputs": [
    {
     "data": {
      "text/plain": [
       "[(u'grated', 'VBN'),\n",
       " (u'lemon', 'JJ'),\n",
       " (u'zest', 'NN'),\n",
       " (u'grated', 'VBD'),\n",
       " (u'orange', 'NN'),\n",
       " (u'kosher', 'NN'),\n",
       " (u'salt', 'NN'),\n",
       " (u'ground', 'NN'),\n",
       " (u'red', 'VBD'),\n",
       " (u'pepper', 'IN'),\n",
       " (u'garlic', 'JJ'),\n",
       " (u'cloves', 'NNS'),\n",
       " (u'skirt', 'VBP'),\n",
       " (u'steak', 'JJ'),\n",
       " (u'cooking', 'NN'),\n",
       " (u'spray', 'NN')]"
      ]
     },
     "execution_count": 134,
     "metadata": {},
     "output_type": "execute_result"
    }
   ],
   "source": [
    "pos_tag(text)"
   ]
  },
  {
   "cell_type": "markdown",
   "metadata": {},
   "source": [
    "Regex and vectorizer testing "
   ]
  },
  {
   "cell_type": "code",
   "execution_count": 26,
   "metadata": {
    "collapsed": false
   },
   "outputs": [],
   "source": [
    "# my_string = re.sub(r'\\d+%\\s', '', my_string)"
   ]
  },
  {
   "cell_type": "code",
   "execution_count": 27,
   "metadata": {
    "collapsed": false
   },
   "outputs": [],
   "source": [
    "# my_string = my_string.lower()\n",
    "# subs = re.sub(r'\\xae', '', my_string)"
   ]
  },
  {
   "cell_type": "code",
   "execution_count": 31,
   "metadata": {
    "collapsed": false
   },
   "outputs": [],
   "source": [
    "# first_set = ingredients_dict.values()[0]\n",
    "# ingr_string = ' '.join(first_set)\n",
    "# ingr_string"
   ]
  },
  {
   "cell_type": "code",
   "execution_count": 138,
   "metadata": {
    "collapsed": true
   },
   "outputs": [],
   "source": [
    "# set_of_ten = ingredients_dict.values()\n",
    "# list_of_strings = []\n",
    "# for obj in set_of_ten:\n",
    "#     ingr_string = ' '.join(obj)\n",
    "#     list_of_strings.append(ingr_string)"
   ]
  },
  {
   "cell_type": "code",
   "execution_count": 30,
   "metadata": {
    "collapsed": false
   },
   "outputs": [],
   "source": [
    "# vect = CountVectorizer(stop_words='english')\n",
    "# vect.fit(list_of_strings)"
   ]
  },
  {
   "cell_type": "code",
   "execution_count": 29,
   "metadata": {
    "collapsed": false
   },
   "outputs": [],
   "source": [
    "# simple_train_dtm = vect.transform(list_of_strings)\n",
    "# simple_train_dtm.toarray()"
   ]
  },
  {
   "cell_type": "code",
   "execution_count": 28,
   "metadata": {
    "collapsed": false
   },
   "outputs": [],
   "source": [
    "# pd.DataFrame(simple_train_dtm.toarray(), columns=vect.get_feature_names()).head()"
   ]
  },
  {
   "cell_type": "code",
   "execution_count": null,
   "metadata": {
    "collapsed": true
   },
   "outputs": [],
   "source": []
  }
 ],
 "metadata": {
  "kernelspec": {
   "display_name": "Python 2",
   "language": "python",
   "name": "python2"
  },
  "language_info": {
   "codemirror_mode": {
    "name": "ipython",
    "version": 2
   },
   "file_extension": ".py",
   "mimetype": "text/x-python",
   "name": "python",
   "nbconvert_exporter": "python",
   "pygments_lexer": "ipython2",
   "version": "2.7.11"
  }
 },
 "nbformat": 4,
 "nbformat_minor": 0
}
