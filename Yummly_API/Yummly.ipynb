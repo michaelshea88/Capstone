{
 "cells": [
  {
   "cell_type": "markdown",
   "metadata": {},
   "source": [
    "Below done so far:\n",
    "- access Yummly API with \"Search Recipes API Call\"\n",
    "- search for \"chicken\" recipes\n",
    "- convert JSON into dicts and lists with .json() function\n",
    "- extract data from converted JSON\n",
    "    - \"recipe\" table \n",
    "    - \"course\" table\n",
    "    - \"ingredients\" table\n",
    "    - \"flavors\" table\n",
    "- search Yummly metadata dictionary for valid search terms\n",
    "- look at an individual recipe in detail with \"Get Recipe API Call\"\n",
    "\n",
    "\n",
    "To do:\n",
    "- identify if any info from the recipe_detail can be used\n",
    "- come up with systematic way to pull recipes from API\n",
    "    - one possibility:\n",
    "- store data from API calls in SQL database / csvs"
   ]
  },
  {
   "cell_type": "code",
   "execution_count": 1,
   "metadata": {
    "collapsed": true
   },
   "outputs": [],
   "source": [
    "# imports\n",
    "\n",
    "import requests\n",
    "import json\n",
    "import pandas as pd\n",
    "import numpy as np"
   ]
  },
  {
   "cell_type": "code",
   "execution_count": 2,
   "metadata": {
    "collapsed": true
   },
   "outputs": [],
   "source": [
    "# ID and Key\n",
    "\n",
    "app_id = 'e2b9bebc'\n",
    "app_key = '4193215272970d956cfd5384a08580a9'"
   ]
  },
  {
   "cell_type": "markdown",
   "metadata": {},
   "source": [
    "Create variables for URLs. The base_url is for the search_recipes API call. The metadata_url is for searching for valid search terms."
   ]
  },
  {
   "cell_type": "code",
   "execution_count": 3,
   "metadata": {
    "collapsed": true
   },
   "outputs": [],
   "source": [
    "# URLs\n",
    "\n",
    "base_url = 'http://api.yummly.com/v1/api/recipes?'\n",
    "metadata_url = 'http://api.yummly.com/v1/api/metadata/'"
   ]
  },
  {
   "cell_type": "code",
   "execution_count": 4,
   "metadata": {
    "collapsed": true
   },
   "outputs": [],
   "source": [
    "# headers with yummly ID and Key\n",
    "\n",
    "headers = {'X-Yummly-App-ID':'e2b9bebc', 'X-Yummly-App-Key':'4193215272970d956cfd5384a08580a9'}"
   ]
  },
  {
   "cell_type": "code",
   "execution_count": 5,
   "metadata": {
    "collapsed": false
   },
   "outputs": [],
   "source": [
    "# params\n",
    "\n",
    "parameters = {'q':'lasagna', 'maxResult': 100} \n",
    "\n",
    "# NOTE: maxResult can be 1,000, limiting to 100 for now"
   ]
  },
  {
   "cell_type": "code",
   "execution_count": 6,
   "metadata": {
    "collapsed": false
   },
   "outputs": [],
   "source": [
    "# Call API\n",
    "\n",
    "response = requests.get(base_url, headers=headers, params=parameters)"
   ]
  },
  {
   "cell_type": "code",
   "execution_count": 7,
   "metadata": {
    "collapsed": false
   },
   "outputs": [
    {
     "data": {
      "text/plain": [
       "200"
      ]
     },
     "execution_count": 7,
     "metadata": {},
     "output_type": "execute_result"
    }
   ],
   "source": [
    "# Check status code\n",
    "\n",
    "response.status_code"
   ]
  },
  {
   "cell_type": "code",
   "execution_count": 8,
   "metadata": {
    "collapsed": false
   },
   "outputs": [],
   "source": [
    "# Convert JSON to python dictionaries and lists\n",
    "\n",
    "guac = response.json()"
   ]
  },
  {
   "cell_type": "code",
   "execution_count": 9,
   "metadata": {
    "collapsed": false
   },
   "outputs": [
    {
     "data": {
      "text/plain": [
       "dict"
      ]
     },
     "execution_count": 9,
     "metadata": {},
     "output_type": "execute_result"
    }
   ],
   "source": [
    "# View type of object it is\n",
    "\n",
    "type(guac)"
   ]
  },
  {
   "cell_type": "code",
   "execution_count": 10,
   "metadata": {
    "collapsed": false
   },
   "outputs": [
    {
     "data": {
      "text/plain": [
       "[u'matches', u'totalMatchCount', u'attribution', u'facetCounts', u'criteria']"
      ]
     },
     "execution_count": 10,
     "metadata": {},
     "output_type": "execute_result"
    }
   ],
   "source": [
    "# View top level keys\n",
    "\n",
    "response_keys = guac.keys()\n",
    "response_keys"
   ]
  },
  {
   "cell_type": "code",
   "execution_count": 11,
   "metadata": {
    "collapsed": false
   },
   "outputs": [
    {
     "data": {
      "text/plain": [
       "8821"
      ]
     },
     "execution_count": 11,
     "metadata": {},
     "output_type": "execute_result"
    }
   ],
   "source": [
    "guac['totalMatchCount']"
   ]
  },
  {
   "cell_type": "code",
   "execution_count": 22,
   "metadata": {
    "collapsed": false
   },
   "outputs": [
    {
     "data": {
      "text/plain": [
       "{u'attributes': {u'course': [u'Main Dishes'], u'cuisine': [u'Italian']},\n",
       " u'flavors': {u'bitter': 0.8333333333333334,\n",
       "  u'meaty': 0.8333333333333334,\n",
       "  u'piquant': 0.0,\n",
       "  u'salty': 0.8333333333333334,\n",
       "  u'sour': 0.16666666666666666,\n",
       "  u'sweet': 0.16666666666666666},\n",
       " u'id': u'Lasagna-458970',\n",
       " u'imageUrlsBySize': {u'90': u'http://lh6.ggpht.com/Hi9AkXxH2eM9Bu-KInI_zLTwHDHDiOjXV75ogLvjrcKk9TfmenuIVVue2Ir6IKffJIbd8U5YiTjAN9fSMFSuUQ=s90-c'},\n",
       " u'ingredients': [u'mozzarella cheese',\n",
       "  u'olive oil',\n",
       "  u'ground turkey',\n",
       "  u'turkey',\n",
       "  u'sausages',\n",
       "  u'tomato sauce',\n",
       "  u'salt',\n",
       "  u'lasagna noodles',\n",
       "  u'ricotta cheese',\n",
       "  u'grated parmesan cheese',\n",
       "  u'eggs'],\n",
       " u'rating': 4,\n",
       " u'recipeName': u'Lasagna',\n",
       " u'smallImageUrls': [u'http://lh5.ggpht.com/Gy_IVNrpOK6FXyNwVY_hrCZFW_pCAvBYcspJbPpbhvGqzyxzdNrZRw9VYF6NBFsY5z7Otzo03gNhOrvgWohmxw=s90'],\n",
       " u'sourceDisplayName': u'Williams-Sonoma',\n",
       " u'totalTimeInSeconds': 5400}"
      ]
     },
     "execution_count": 22,
     "metadata": {},
     "output_type": "execute_result"
    }
   ],
   "source": [
    "# The matches key has all the data in it - view a sub dictionary\n",
    "\n",
    "guac['matches'][11]"
   ]
  },
  {
   "cell_type": "markdown",
   "metadata": {},
   "source": [
    "### Extracting data"
   ]
  },
  {
   "cell_type": "code",
   "execution_count": 23,
   "metadata": {
    "collapsed": true
   },
   "outputs": [],
   "source": [
    "# Create dicts to put data into\n",
    "\n",
    "recipe_info_dict = {}\n",
    "flavors_dict = {}\n",
    "ingredients_dict = {}\n",
    "courses_dict = {}\n",
    "cuisine_dict = {}"
   ]
  },
  {
   "cell_type": "code",
   "execution_count": 24,
   "metadata": {
    "collapsed": false
   },
   "outputs": [],
   "source": [
    "# pull data in for loop\n",
    "for item in guac['matches']:\n",
    "    \n",
    "    # Get basic recipe info and put into list\n",
    "    recipe_info = []\n",
    "    recipe_info.append(item.get('recipeName'))\n",
    "    recipe_info.append(item.get('totalTimeInSeconds'))\n",
    "    recipe_info.append(item.get('sourceDisplayName'))\n",
    "    recipe_info.append(item.get('rating'))\n",
    "    \n",
    "    # Add to recipe_info_dict\n",
    "    recipe_info_dict[item.get('id')] = recipe_info\n",
    "    \n",
    "    # Add data to dicts for courses, flavors and cuisines\n",
    "    courses_dict[item.get('id')] = item['attributes'].get('course')\n",
    "    flavors_dict[item.get('id')] = item.get('flavors')\n",
    "    cuisine_dict[item.get('id')] = item['attributes'].get('cuisine')\n",
    "    ingredients_dict[item.get('id')] = [x.lower() for x in item.get('ingredients')]\n"
   ]
  },
  {
   "cell_type": "markdown",
   "metadata": {},
   "source": [
    "Next few blocks contain some old code keeping in case needed:"
   ]
  },
  {
   "cell_type": "code",
   "execution_count": 1,
   "metadata": {
    "collapsed": true
   },
   "outputs": [],
   "source": [
    "# for item in guac['matches']:\n",
    "#     recipe_info = [item.get('recipeName'), item['attributes'].get('cuisine'),\n",
    "#                   item.get('totalTimeInSeconds'), item.get('sourceDisplayName'),\n",
    "#                   item.get('rating')]\n",
    "#     recipe_info.append(item.get('recipeName'))\n",
    "#     recipe_info.append(item['attributes'].get('cuisine'))\n",
    "#     recipe_info.append(item.get('totalTimeInSeconds'))\n",
    "#     recipe_info.append(item.get('rating'))\n",
    "#     recipe_info.append(item.get('sourceDisplayName'))\n",
    "#     recipe_info.append(item.get('imageUrlsBySize').keys())\n",
    "#     rec_id.append(item.get('id'))\n",
    "#     rec_name.append(item.get('recipeName'))\n",
    "#     cuisine.append(item['attributes'].get('cuisine'))\n",
    "#     tot_time_sec.append(item.get('totalTimeInSeconds'))\n",
    "#     rec_source.append(item.get('sourceDisplayName'))\n",
    "#     image_size.append(item.get('imageUrlsBySize').keys())\n",
    "#     rating.append(item.get('rating'))\n",
    "#     rec_id.append(item.get('id'))\n",
    "#     rating.append(item.get('rating'))\n",
    "#     rec_source.append(item.get('sourceDisplayName'))    \n",
    "#     recipe_info_dict[item.get('id')] = \n",
    "#     ingredients_dict[item.get('id')] = item.get('ingredients')\n",
    "    \n",
    "#     for ingredient in item.get('ingredients'):\n",
    "#         ingredients_all_set.add(ingredient)"
   ]
  },
  {
   "cell_type": "markdown",
   "metadata": {
    "collapsed": true
   },
   "source": [
    "### Deal with ingredients - below code is messy and work in progress"
   ]
  },
  {
   "cell_type": "markdown",
   "metadata": {},
   "source": [
    "Here is bruk's code"
   ]
  },
  {
   "cell_type": "code",
   "execution_count": 86,
   "metadata": {
    "collapsed": true
   },
   "outputs": [],
   "source": [
    "ingredients_list = []"
   ]
  },
  {
   "cell_type": "code",
   "execution_count": 87,
   "metadata": {
    "collapsed": true
   },
   "outputs": [],
   "source": [
    "for food in guac['matches']:\n",
    "    _d2 = {}\n",
    "    _d2['id'] = food.get('id')\n",
    "    for i in food['ingredients']:\n",
    "        _d2[i] = 1\n",
    "    ingredients_list.append(_d2)"
   ]
  },
  {
   "cell_type": "code",
   "execution_count": 88,
   "metadata": {
    "collapsed": true
   },
   "outputs": [],
   "source": [
    "df_ingredients_bruk =pd.DataFrame(ingredients_list)"
   ]
  },
  {
   "cell_type": "code",
   "execution_count": 89,
   "metadata": {
    "collapsed": false
   },
   "outputs": [],
   "source": [
    "df_ingredients_bruk.set_index(df_ingredients_bruk.id, inplace=True, drop=True)"
   ]
  },
  {
   "cell_type": "code",
   "execution_count": 90,
   "metadata": {
    "collapsed": false
   },
   "outputs": [
    {
     "data": {
      "text/html": [
       "<div>\n",
       "<table border=\"1\" class=\"dataframe\">\n",
       "  <thead>\n",
       "    <tr style=\"text-align: right;\">\n",
       "      <th></th>\n",
       "      <th>Alfredo sauce</th>\n",
       "      <th>Bertolli Pastasaus Bolognese</th>\n",
       "      <th>Bertolli Tomato &amp; Basil Sauce</th>\n",
       "      <th>Dreamfields Lasagna</th>\n",
       "      <th>Italian cheese blend</th>\n",
       "      <th>KRAFT Shredded Low-Moisture Part-Skim Mozzarella Cheese</th>\n",
       "      <th>Kraft Grated Parmesan Cheese</th>\n",
       "      <th>Kraft Parmesan Cheese</th>\n",
       "      <th>McCormick Black Pepper</th>\n",
       "      <th>McCormick Garlic Powder</th>\n",
       "      <th>...</th>\n",
       "      <th>vegetables</th>\n",
       "      <th>water</th>\n",
       "      <th>white onion</th>\n",
       "      <th>white sugar</th>\n",
       "      <th>white wine vinegar</th>\n",
       "      <th>whole milk ricotta cheese</th>\n",
       "      <th>whole peeled tomatoes</th>\n",
       "      <th>whole wheat lasagna noodles</th>\n",
       "      <th>yellow onion</th>\n",
       "      <th>zucchini</th>\n",
       "    </tr>\n",
       "    <tr>\n",
       "      <th>id</th>\n",
       "      <th></th>\n",
       "      <th></th>\n",
       "      <th></th>\n",
       "      <th></th>\n",
       "      <th></th>\n",
       "      <th></th>\n",
       "      <th></th>\n",
       "      <th></th>\n",
       "      <th></th>\n",
       "      <th></th>\n",
       "      <th></th>\n",
       "      <th></th>\n",
       "      <th></th>\n",
       "      <th></th>\n",
       "      <th></th>\n",
       "      <th></th>\n",
       "      <th></th>\n",
       "      <th></th>\n",
       "      <th></th>\n",
       "      <th></th>\n",
       "      <th></th>\n",
       "    </tr>\n",
       "  </thead>\n",
       "  <tbody>\n",
       "    <tr>\n",
       "      <th>Lasagna-1572575</th>\n",
       "      <td>NaN</td>\n",
       "      <td>NaN</td>\n",
       "      <td>NaN</td>\n",
       "      <td>NaN</td>\n",
       "      <td>NaN</td>\n",
       "      <td>NaN</td>\n",
       "      <td>NaN</td>\n",
       "      <td>NaN</td>\n",
       "      <td>NaN</td>\n",
       "      <td>NaN</td>\n",
       "      <td>...</td>\n",
       "      <td>NaN</td>\n",
       "      <td>NaN</td>\n",
       "      <td>NaN</td>\n",
       "      <td>NaN</td>\n",
       "      <td>NaN</td>\n",
       "      <td>1.0</td>\n",
       "      <td>NaN</td>\n",
       "      <td>NaN</td>\n",
       "      <td>NaN</td>\n",
       "      <td>NaN</td>\n",
       "    </tr>\n",
       "    <tr>\n",
       "      <th>Lasagna-1704692</th>\n",
       "      <td>NaN</td>\n",
       "      <td>NaN</td>\n",
       "      <td>NaN</td>\n",
       "      <td>NaN</td>\n",
       "      <td>NaN</td>\n",
       "      <td>NaN</td>\n",
       "      <td>NaN</td>\n",
       "      <td>NaN</td>\n",
       "      <td>NaN</td>\n",
       "      <td>NaN</td>\n",
       "      <td>...</td>\n",
       "      <td>NaN</td>\n",
       "      <td>NaN</td>\n",
       "      <td>NaN</td>\n",
       "      <td>NaN</td>\n",
       "      <td>NaN</td>\n",
       "      <td>NaN</td>\n",
       "      <td>NaN</td>\n",
       "      <td>NaN</td>\n",
       "      <td>NaN</td>\n",
       "      <td>NaN</td>\n",
       "    </tr>\n",
       "    <tr>\n",
       "      <th>Lasagna-997918</th>\n",
       "      <td>NaN</td>\n",
       "      <td>NaN</td>\n",
       "      <td>NaN</td>\n",
       "      <td>NaN</td>\n",
       "      <td>NaN</td>\n",
       "      <td>NaN</td>\n",
       "      <td>NaN</td>\n",
       "      <td>NaN</td>\n",
       "      <td>NaN</td>\n",
       "      <td>NaN</td>\n",
       "      <td>...</td>\n",
       "      <td>NaN</td>\n",
       "      <td>NaN</td>\n",
       "      <td>NaN</td>\n",
       "      <td>NaN</td>\n",
       "      <td>NaN</td>\n",
       "      <td>NaN</td>\n",
       "      <td>NaN</td>\n",
       "      <td>NaN</td>\n",
       "      <td>NaN</td>\n",
       "      <td>NaN</td>\n",
       "    </tr>\n",
       "    <tr>\n",
       "      <th>Lasagna-494544</th>\n",
       "      <td>NaN</td>\n",
       "      <td>NaN</td>\n",
       "      <td>NaN</td>\n",
       "      <td>NaN</td>\n",
       "      <td>NaN</td>\n",
       "      <td>NaN</td>\n",
       "      <td>NaN</td>\n",
       "      <td>NaN</td>\n",
       "      <td>NaN</td>\n",
       "      <td>NaN</td>\n",
       "      <td>...</td>\n",
       "      <td>NaN</td>\n",
       "      <td>NaN</td>\n",
       "      <td>NaN</td>\n",
       "      <td>NaN</td>\n",
       "      <td>NaN</td>\n",
       "      <td>NaN</td>\n",
       "      <td>NaN</td>\n",
       "      <td>NaN</td>\n",
       "      <td>NaN</td>\n",
       "      <td>NaN</td>\n",
       "    </tr>\n",
       "    <tr>\n",
       "      <th>Best-Lasagna-1698933</th>\n",
       "      <td>NaN</td>\n",
       "      <td>NaN</td>\n",
       "      <td>NaN</td>\n",
       "      <td>NaN</td>\n",
       "      <td>NaN</td>\n",
       "      <td>NaN</td>\n",
       "      <td>NaN</td>\n",
       "      <td>NaN</td>\n",
       "      <td>NaN</td>\n",
       "      <td>NaN</td>\n",
       "      <td>...</td>\n",
       "      <td>NaN</td>\n",
       "      <td>NaN</td>\n",
       "      <td>NaN</td>\n",
       "      <td>NaN</td>\n",
       "      <td>NaN</td>\n",
       "      <td>NaN</td>\n",
       "      <td>NaN</td>\n",
       "      <td>NaN</td>\n",
       "      <td>NaN</td>\n",
       "      <td>NaN</td>\n",
       "    </tr>\n",
       "  </tbody>\n",
       "</table>\n",
       "<p>5 rows × 231 columns</p>\n",
       "</div>"
      ],
      "text/plain": [
       "                      Alfredo sauce  Bertolli Pastasaus Bolognese  \\\n",
       "id                                                                  \n",
       "Lasagna-1572575                 NaN                           NaN   \n",
       "Lasagna-1704692                 NaN                           NaN   \n",
       "Lasagna-997918                  NaN                           NaN   \n",
       "Lasagna-494544                  NaN                           NaN   \n",
       "Best-Lasagna-1698933            NaN                           NaN   \n",
       "\n",
       "                      Bertolli Tomato & Basil Sauce  Dreamfields Lasagna  \\\n",
       "id                                                                         \n",
       "Lasagna-1572575                                 NaN                  NaN   \n",
       "Lasagna-1704692                                 NaN                  NaN   \n",
       "Lasagna-997918                                  NaN                  NaN   \n",
       "Lasagna-494544                                  NaN                  NaN   \n",
       "Best-Lasagna-1698933                            NaN                  NaN   \n",
       "\n",
       "                      Italian cheese blend  \\\n",
       "id                                           \n",
       "Lasagna-1572575                        NaN   \n",
       "Lasagna-1704692                        NaN   \n",
       "Lasagna-997918                         NaN   \n",
       "Lasagna-494544                         NaN   \n",
       "Best-Lasagna-1698933                   NaN   \n",
       "\n",
       "                      KRAFT Shredded Low-Moisture Part-Skim Mozzarella Cheese  \\\n",
       "id                                                                              \n",
       "Lasagna-1572575                                                     NaN         \n",
       "Lasagna-1704692                                                     NaN         \n",
       "Lasagna-997918                                                      NaN         \n",
       "Lasagna-494544                                                      NaN         \n",
       "Best-Lasagna-1698933                                                NaN         \n",
       "\n",
       "                      Kraft Grated Parmesan Cheese  Kraft Parmesan Cheese  \\\n",
       "id                                                                          \n",
       "Lasagna-1572575                                NaN                    NaN   \n",
       "Lasagna-1704692                                NaN                    NaN   \n",
       "Lasagna-997918                                 NaN                    NaN   \n",
       "Lasagna-494544                                 NaN                    NaN   \n",
       "Best-Lasagna-1698933                           NaN                    NaN   \n",
       "\n",
       "                      McCormick Black Pepper  McCormick Garlic Powder  \\\n",
       "id                                                                      \n",
       "Lasagna-1572575                          NaN                      NaN   \n",
       "Lasagna-1704692                          NaN                      NaN   \n",
       "Lasagna-997918                           NaN                      NaN   \n",
       "Lasagna-494544                           NaN                      NaN   \n",
       "Best-Lasagna-1698933                     NaN                      NaN   \n",
       "\n",
       "                        ...     vegetables  water  white onion  white sugar  \\\n",
       "id                      ...                                                   \n",
       "Lasagna-1572575         ...            NaN    NaN          NaN          NaN   \n",
       "Lasagna-1704692         ...            NaN    NaN          NaN          NaN   \n",
       "Lasagna-997918          ...            NaN    NaN          NaN          NaN   \n",
       "Lasagna-494544          ...            NaN    NaN          NaN          NaN   \n",
       "Best-Lasagna-1698933    ...            NaN    NaN          NaN          NaN   \n",
       "\n",
       "                      white wine vinegar  whole milk ricotta cheese  \\\n",
       "id                                                                    \n",
       "Lasagna-1572575                      NaN                        1.0   \n",
       "Lasagna-1704692                      NaN                        NaN   \n",
       "Lasagna-997918                       NaN                        NaN   \n",
       "Lasagna-494544                       NaN                        NaN   \n",
       "Best-Lasagna-1698933                 NaN                        NaN   \n",
       "\n",
       "                      whole peeled tomatoes  whole wheat lasagna noodles  \\\n",
       "id                                                                         \n",
       "Lasagna-1572575                         NaN                          NaN   \n",
       "Lasagna-1704692                         NaN                          NaN   \n",
       "Lasagna-997918                          NaN                          NaN   \n",
       "Lasagna-494544                          NaN                          NaN   \n",
       "Best-Lasagna-1698933                    NaN                          NaN   \n",
       "\n",
       "                      yellow onion  zucchini  \n",
       "id                                            \n",
       "Lasagna-1572575                NaN       NaN  \n",
       "Lasagna-1704692                NaN       NaN  \n",
       "Lasagna-997918                 NaN       NaN  \n",
       "Lasagna-494544                 NaN       NaN  \n",
       "Best-Lasagna-1698933           NaN       NaN  \n",
       "\n",
       "[5 rows x 231 columns]"
      ]
     },
     "execution_count": 90,
     "metadata": {},
     "output_type": "execute_result"
    }
   ],
   "source": [
    "df_ingredients_bruk.head()"
   ]
  },
  {
   "cell_type": "code",
   "execution_count": 95,
   "metadata": {
    "collapsed": false
   },
   "outputs": [
    {
     "data": {
      "text/plain": [
       "8"
      ]
     },
     "execution_count": 95,
     "metadata": {},
     "output_type": "execute_result"
    }
   ],
   "source": [
    "# it works\n",
    "\n",
    "pd.notnull(df_ingredients_bruk.ix['Lasagna-1572575', :]).sum()"
   ]
  },
  {
   "cell_type": "code",
   "execution_count": 91,
   "metadata": {
    "collapsed": false
   },
   "outputs": [
    {
     "data": {
      "text/plain": [
       "[u'lasagna noodles',\n",
       " u'whole milk ricotta cheese',\n",
       " u'grated parmesan cheese',\n",
       " u'eggs',\n",
       " u'meat balls',\n",
       " u'sauce',\n",
       " u'shredded mozzarella cheese']"
      ]
     },
     "execution_count": 91,
     "metadata": {},
     "output_type": "execute_result"
    }
   ],
   "source": [
    "ingredients_dict['Lasagna-1572575']"
   ]
  },
  {
   "cell_type": "markdown",
   "metadata": {},
   "source": [
    "### Here is mine"
   ]
  },
  {
   "cell_type": "code",
   "execution_count": 26,
   "metadata": {
    "collapsed": false
   },
   "outputs": [
    {
     "data": {
      "text/plain": [
       "{u'attributes': {u'course': [u'Main Dishes'], u'cuisine': [u'Kid-Friendly']},\n",
       " u'flavors': None,\n",
       " u'id': u'Lasagna-1572575',\n",
       " u'imageUrlsBySize': {u'90': u'https://lh3.googleusercontent.com/SIf-UheRgOtSp6jsTDCLAkZ_ed6_1kaUQ_bk8deXqZSYdg7fwRy66sjhdaRDPoklVhgN2elnjYbvurU3dxFchxc=s90-c'},\n",
       " u'ingredients': [u'lasagna noodles',\n",
       "  u'whole milk ricotta cheese',\n",
       "  u'grated parmesan cheese',\n",
       "  u'eggs',\n",
       "  u'meat balls',\n",
       "  u'sauce',\n",
       "  u'shredded mozzarella cheese'],\n",
       " u'rating': 4,\n",
       " u'recipeName': u'Lasagna',\n",
       " u'smallImageUrls': [u'https://lh3.googleusercontent.com/nZdz28kR81FivVpUezAX9HX3hzgNme7F69FFeYwSHfJ0IB3J7FWb3P6CFhprv5EBakevw_FU9ZNbBOWdlPdd3w=s90'],\n",
       " u'sourceDisplayName': u'Olives-n-Okra',\n",
       " u'totalTimeInSeconds': 3900}"
      ]
     },
     "execution_count": 26,
     "metadata": {},
     "output_type": "execute_result"
    }
   ],
   "source": [
    "guac['matches'][0]"
   ]
  },
  {
   "cell_type": "code",
   "execution_count": 27,
   "metadata": {
    "collapsed": false
   },
   "outputs": [
    {
     "data": {
      "text/plain": [
       "(u'Crockpot-Lasagna-608751',\n",
       " [u'nonstick spray',\n",
       "  u'pasta sauce',\n",
       "  u'water',\n",
       "  u'ricotta cheese',\n",
       "  u'shredded carrots',\n",
       "  u'lasagna noodles',\n",
       "  u'shredded mozzarella cheese'])"
      ]
     },
     "execution_count": 27,
     "metadata": {},
     "output_type": "execute_result"
    }
   ],
   "source": [
    "ingredients_dict.items()[0]"
   ]
  },
  {
   "cell_type": "code",
   "execution_count": 29,
   "metadata": {
    "collapsed": false
   },
   "outputs": [
    {
     "data": {
      "text/plain": [
       "[u'marinara sauce',\n",
       " u'oven-ready lasagna noodles',\n",
       " u'ricotta cheese',\n",
       " u'shredded mozzarella cheese',\n",
       " u'fresh spinach leaves',\n",
       " u'fresh basil leaves',\n",
       " u'grated parmesan cheese']"
      ]
     },
     "execution_count": 29,
     "metadata": {},
     "output_type": "execute_result"
    }
   ],
   "source": [
    "thing = ingredients_dict['10-Minute-Spinach-Lasagna-991495']\n",
    "thing"
   ]
  },
  {
   "cell_type": "code",
   "execution_count": 32,
   "metadata": {
    "collapsed": false
   },
   "outputs": [
    {
     "name": "stdout",
     "output_type": "stream",
     "text": [
      "marinara sauce\n",
      "oven-ready lasagna noodles\n",
      "ricotta cheese\n",
      "shredded mozzarella cheese\n",
      "fresh spinach leaves\n",
      "fresh basil leaves\n",
      "grated parmesan cheese\n"
     ]
    },
    {
     "name": "stderr",
     "output_type": "stream",
     "text": [
      "/Users/michaelshea/anaconda/lib/python2.7/site-packages/ipykernel/__main__.py:3: UnicodeWarning: Unicode equal comparison failed to convert both arguments to Unicode - interpreting them as being unequal\n",
      "  app.launch_new_instance()\n"
     ]
    }
   ],
   "source": [
    "for i in thing:\n",
    "    if i in master_ingredients_list:\n",
    "        print i"
   ]
  },
  {
   "cell_type": "code",
   "execution_count": 44,
   "metadata": {
    "collapsed": false
   },
   "outputs": [],
   "source": [
    "# for recipe, ingredients in ingredients_dict.iteritems():\n",
    "#     print recipe\n",
    "#     print ingredients"
   ]
  },
  {
   "cell_type": "code",
   "execution_count": 33,
   "metadata": {
    "collapsed": true
   },
   "outputs": [],
   "source": [
    "master_ingredients = pd.read_csv('../Assets/master_ingredients.txt', names=['ingredient'])"
   ]
  },
  {
   "cell_type": "code",
   "execution_count": 36,
   "metadata": {
    "collapsed": false
   },
   "outputs": [],
   "source": [
    "master_ingredients_list = [x.lower() for x in master_ingredients.ingredient]"
   ]
  },
  {
   "cell_type": "code",
   "execution_count": 38,
   "metadata": {
    "collapsed": false
   },
   "outputs": [
    {
     "name": "stderr",
     "output_type": "stream",
     "text": [
      "/Users/michaelshea/anaconda/lib/python2.7/site-packages/ipykernel/__main__.py:5: UnicodeWarning: Unicode equal comparison failed to convert both arguments to Unicode - interpreting them as being unequal\n"
     ]
    }
   ],
   "source": [
    "ingredients_dict_2 = {}\n",
    "for recipe, ingredient_list in ingredients_dict.iteritems():\n",
    "    ing_dict = {}\n",
    "    for master_ingredient in master_ingredients_list:\n",
    "        if master_ingredient in ingredient_list:\n",
    "            ing_dict[master_ingredient] = 1\n",
    "        else:\n",
    "            ing_dict[master_ingredient] = 0\n",
    "    \n",
    "#     This might be needed\n",
    "#     for i in range(len(pair[1])):\n",
    "#         if pair[1][i] in ingredients_all:\n",
    "#             ing_list.append(1)\n",
    "#         else:\n",
    "#             ing_list.append(0)\n",
    "    \n",
    "    \n",
    "        ingredients_dict_2[recipe] = ing_dict"
   ]
  },
  {
   "cell_type": "code",
   "execution_count": 39,
   "metadata": {
    "collapsed": false
   },
   "outputs": [],
   "source": [
    "ingredients_df = pd.DataFrame(ingredients_dict_2)"
   ]
  },
  {
   "cell_type": "code",
   "execution_count": 41,
   "metadata": {
    "collapsed": false
   },
   "outputs": [],
   "source": [
    "ingredients_df = ingredients_df.T"
   ]
  },
  {
   "cell_type": "code",
   "execution_count": 42,
   "metadata": {
    "collapsed": false
   },
   "outputs": [
    {
     "data": {
      "text/plain": [
       "(100, 13009)"
      ]
     },
     "execution_count": 42,
     "metadata": {},
     "output_type": "execute_result"
    }
   ],
   "source": [
    "ingredients_df.shape"
   ]
  },
  {
   "cell_type": "markdown",
   "metadata": {},
   "source": [
    "Check that it works!"
   ]
  },
  {
   "cell_type": "code",
   "execution_count": 74,
   "metadata": {
    "collapsed": false
   },
   "outputs": [
    {
     "data": {
      "text/plain": [
       "1"
      ]
     },
     "execution_count": 74,
     "metadata": {},
     "output_type": "execute_result"
    }
   ],
   "source": [
    "ingredients_df.ix['Best-Lasagna-1698933', 'parmesan cheese']"
   ]
  },
  {
   "cell_type": "code",
   "execution_count": 60,
   "metadata": {
    "collapsed": false
   },
   "outputs": [
    {
     "data": {
      "text/plain": [
       "[u'hot italian sausage',\n",
       " u'ground beef',\n",
       " u'onions',\n",
       " u'garlic cloves',\n",
       " u'salt',\n",
       " u'diced tomatoes',\n",
       " u'tomato paste',\n",
       " u'tomato sauce',\n",
       " u'sugar',\n",
       " u'dried basil leaves',\n",
       " u'dried parsley',\n",
       " u'italian seasoning',\n",
       " u'ground black pepper',\n",
       " u'lasagna noodles',\n",
       " u'ricotta cheese',\n",
       " u'eggs',\n",
       " u'pepper',\n",
       " u'garlic powder',\n",
       " u'parmesan cheese',\n",
       " u'mozzarella cheese']"
      ]
     },
     "execution_count": 60,
     "metadata": {},
     "output_type": "execute_result"
    }
   ],
   "source": [
    "ingredients_dict['Best-Lasagna-1698933']"
   ]
  },
  {
   "cell_type": "code",
   "execution_count": 73,
   "metadata": {
    "collapsed": false
   },
   "outputs": [
    {
     "name": "stdout",
     "output_type": "stream",
     "text": [
      "alfredo sauce\n",
      "all-purpose flour\n",
      "artichoke hearts\n",
      "baby spinach\n",
      "baby spinach leaves\n",
      "basil\n",
      "basil leaves\n",
      "bay leaf\n",
      "bay leaves\n",
      "beaten eggs\n",
      "bechamel\n",
      "beef\n",
      "beef broth\n",
      "bell pepper\n",
      "bertolli pastasaus bolognese\n",
      "bertolli tomato & basil sauce\n",
      "black olives\n",
      "black pepper\n",
      "bolognese sauce\n",
      "boneless skinless chicken breasts\n",
      "breakfast sausages\n",
      "broccoli florets\n",
      "brown sugar\n",
      "butter\n",
      "carrots\n",
      "cashew nuts\n",
      "celery\n",
      "chard\n",
      "cheddar cheese\n",
      "cheese\n",
      "chicken broth\n",
      "chopped celery\n",
      "chopped fresh mint\n",
      "chopped garlic\n",
      "chopped onion\n",
      "chopped parsley\n",
      "chunky salsa\n",
      "coarse salt\n",
      "colby cheese\n",
      "cooked italian meatballs\n",
      "cooked meatballs\n",
      "cooking spray\n",
      "cottage cheese\n",
      "cream cheese\n",
      "cremini mushrooms\n",
      "crimini mushrooms\n",
      "crushed red pepper\n",
      "crushed red pepper flakes\n",
      "crushed tomatoes\n",
      "diced onions\n",
      "diced tomatoes\n",
      "dreamfields lasagna\n",
      "dried basil\n",
      "dried basil leaves\n",
      "dried oregano\n",
      "dried parsley\n",
      "dried thyme\n",
      "eggplant\n",
      "eggs\n",
      "extra firm tofu\n",
      "extra large eggs\n",
      "extra-virgin olive oil\n",
      "fennel seeds\n",
      "flat leaf parsley\n",
      "flour\n",
      "fresh basil\n",
      "fresh basil leaves\n",
      "fresh mozzarella\n",
      "fresh mozzarella cheese\n",
      "fresh mushrooms\n",
      "fresh oregano\n",
      "fresh parsley\n",
      "fresh parsley leaves\n",
      "fresh spinach\n",
      "fresh spinach leaves\n",
      "fresh thyme\n",
      "freshly grated parmesan\n",
      "freshly ground black pepper\n",
      "freshly ground pepper\n",
      "frozen chopped spinach\n",
      "frozen corn\n",
      "frozen peas\n",
      "garlic\n",
      "garlic cloves\n",
      "garlic powder\n",
      "garlic salt\n",
      "granulated sugar\n",
      "grated nutmeg\n",
      "grated parmesan cheese\n",
      "green onions\n",
      "ground beef\n",
      "ground black pepper\n",
      "ground chuck\n",
      "ground cinnamon\n",
      "ground meat\n",
      "ground nutmeg\n",
      "ground sirloin\n",
      "ground turkey\n",
      "ground turkey breast\n",
      "hamburger\n",
      "hot italian sausage\n",
      "hummus\n",
      "italian cheese blend\n",
      "italian plum tomatoes\n",
      "italian sausage\n",
      "italian seasoning\n",
      "italian tomatoes\n",
      "kosher salt\n",
      "kraft grated parmesan cheese\n",
      "kraft parmesan cheese\n",
      "kraft shredded low-moisture part-skim mozzarella cheese\n",
      "large eggs\n",
      "lasagna noodles\n",
      "lasagna sheets\n",
      "lasagne\n",
      "lean ground beef\n",
      "lean ground turkey\n",
      "low fat mozzarella\n",
      "low-fat cottage cheese\n",
      "low-fat ricotta\n",
      "low-fat ricotta cheese\n",
      "marinara sauce\n",
      "mashed potatoes\n",
      "mccormick black pepper\n",
      "mccormick garlic powder\n",
      "mccormick parsley flakes\n",
      "meat\n",
      "meat sauce\n",
      "mild italian sausage\n",
      "milk\n",
      "minced garlic\n",
      "minced onion\n",
      "mozzarella cheese\n",
      "mushrooms\n",
      "nonfat ricotta cheese\n",
      "nonstick spray\n",
      "nutmeg\n",
      "nutritional yeast\n",
      "olive oil\n",
      "onion powder\n",
      "onions\n",
      "oregano\n",
      "oven-ready lasagna noodles\n",
      "pancetta\n",
      "parmesan cheese\n",
      "parmigiano reggiano cheese\n",
      "parsley\n",
      "parsley flakes\n",
      "part-skim mozzarella cheese\n",
      "part-skim ricotta cheese\n",
      "pasta\n",
      "pasta sauce\n",
      "pecorino romano cheese\n",
      "pepper\n",
      "pepperoni\n",
      "pesto\n",
      "pork\n",
      "pork sausages\n",
      "prego italian sauce\n",
      "provolone cheese\n",
      "purple onion\n",
      "ragu\n",
      "ragu traditional sauce\n",
      "red bell pepper\n",
      "red pepper\n",
      "red pepper flakes\n",
      "red wine\n",
      "ricotta\n",
      "ricotta cheese\n",
      "romano cheese\n",
      "rotini\n",
      "salt\n",
      "salt and ground black pepper\n",
      "sauce\n",
      "sausage casings\n",
      "sausages\n",
      "sesame seeds\n",
      "shredded carrots\n",
      "shredded cheddar cheese\n",
      "shredded mozzarella cheese\n",
      "shredded parmesan cheese\n",
      "shredded sharp cheddar cheese\n",
      "sliced mushrooms\n",
      "soup\n",
      "sour cream\n",
      "spaghetti sauce seasoning mix\n",
      "spinach\n",
      "sugar\n",
      "sweet italian sausage\n",
      "sweet onion\n",
      "taco seasoning\n",
      "tomato juice\n",
      "tomato paste\n",
      "tomato sauce\n",
      "tomatoes\n",
      "turkey\n",
      "turkey sausage\n",
      "vegetable oil\n",
      "vegetable oil cooking spray\n",
      "vegetables\n",
      "water\n",
      "white onion\n",
      "white sugar\n",
      "white wine vinegar\n",
      "whole milk ricotta cheese\n",
      "whole peeled tomatoes\n",
      "whole wheat lasagna noodles\n",
      "yellow onion\n",
      "zucchini\n"
     ]
    }
   ],
   "source": [
    "for i in ingredients_df.columns:\n",
    "    if ingredients_df[i].sum(axis=0) >= 1:\n",
    "        print i"
   ]
  },
  {
   "cell_type": "markdown",
   "metadata": {},
   "source": [
    "### Build recipe info DataFrame"
   ]
  },
  {
   "cell_type": "code",
   "execution_count": 75,
   "metadata": {
    "collapsed": false
   },
   "outputs": [
    {
     "data": {
      "text/plain": [
       "[u'Traditional Lasagna', 6300, u'Pizza Today', 3]"
      ]
     },
     "execution_count": 75,
     "metadata": {},
     "output_type": "execute_result"
    }
   ],
   "source": [
    "recipe_info_dict[recipe_info_dict.keys()[1]]"
   ]
  },
  {
   "cell_type": "code",
   "execution_count": 76,
   "metadata": {
    "collapsed": false
   },
   "outputs": [
    {
     "data": {
      "text/plain": [
       "u'Traditional-Lasagna-1531222'"
      ]
     },
     "execution_count": 76,
     "metadata": {},
     "output_type": "execute_result"
    }
   ],
   "source": [
    "recipe_info_dict.keys()[1]"
   ]
  },
  {
   "cell_type": "code",
   "execution_count": 77,
   "metadata": {
    "collapsed": false
   },
   "outputs": [],
   "source": [
    "recipe_info_df = pd.DataFrame.from_dict(recipe_info_dict, orient='index')"
   ]
  },
  {
   "cell_type": "code",
   "execution_count": 78,
   "metadata": {
    "collapsed": false
   },
   "outputs": [],
   "source": [
    "recipe_info_df.columns = ['rec_name', 'tot_time_seconds', 'rec_source', \n",
    "                         'rating']"
   ]
  },
  {
   "cell_type": "code",
   "execution_count": 79,
   "metadata": {
    "collapsed": false
   },
   "outputs": [
    {
     "data": {
      "text/html": [
       "<div>\n",
       "<table border=\"1\" class=\"dataframe\">\n",
       "  <thead>\n",
       "    <tr style=\"text-align: right;\">\n",
       "      <th></th>\n",
       "      <th>rec_name</th>\n",
       "      <th>tot_time_seconds</th>\n",
       "      <th>rec_source</th>\n",
       "      <th>rating</th>\n",
       "    </tr>\n",
       "  </thead>\n",
       "  <tbody>\n",
       "    <tr>\n",
       "      <th>Crockpot-Lasagna-608751</th>\n",
       "      <td>Crockpot Lasagna</td>\n",
       "      <td>2700.0</td>\n",
       "      <td>Recipe.com</td>\n",
       "      <td>3</td>\n",
       "    </tr>\n",
       "    <tr>\n",
       "      <th>Traditional-Lasagna-1531222</th>\n",
       "      <td>Traditional Lasagna</td>\n",
       "      <td>6300.0</td>\n",
       "      <td>Pizza Today</td>\n",
       "      <td>3</td>\n",
       "    </tr>\n",
       "    <tr>\n",
       "      <th>Classic-Italian-Lasagna-485275</th>\n",
       "      <td>Classic Italian Lasagna</td>\n",
       "      <td>5400.0</td>\n",
       "      <td>The Comfort of Cooking</td>\n",
       "      <td>4</td>\n",
       "    </tr>\n",
       "    <tr>\n",
       "      <th>Moms-Lasagna-1619329</th>\n",
       "      <td>Mom’s Lasagna</td>\n",
       "      <td>4200.0</td>\n",
       "      <td>Jaque's Kitchen</td>\n",
       "      <td>4</td>\n",
       "    </tr>\n",
       "    <tr>\n",
       "      <th>Buddy-Lasagna-1574071</th>\n",
       "      <td>Buddy Lasagna</td>\n",
       "      <td>4200.0</td>\n",
       "      <td>The Perfect Pantry</td>\n",
       "      <td>4</td>\n",
       "    </tr>\n",
       "  </tbody>\n",
       "</table>\n",
       "</div>"
      ],
      "text/plain": [
       "                                               rec_name  tot_time_seconds  \\\n",
       "Crockpot-Lasagna-608751                Crockpot Lasagna            2700.0   \n",
       "Traditional-Lasagna-1531222         Traditional Lasagna            6300.0   \n",
       "Classic-Italian-Lasagna-485275  Classic Italian Lasagna            5400.0   \n",
       "Moms-Lasagna-1619329                      Mom’s Lasagna            4200.0   \n",
       "Buddy-Lasagna-1574071                     Buddy Lasagna            4200.0   \n",
       "\n",
       "                                            rec_source  rating  \n",
       "Crockpot-Lasagna-608751                     Recipe.com       3  \n",
       "Traditional-Lasagna-1531222                Pizza Today       3  \n",
       "Classic-Italian-Lasagna-485275  The Comfort of Cooking       4  \n",
       "Moms-Lasagna-1619329                   Jaque's Kitchen       4  \n",
       "Buddy-Lasagna-1574071               The Perfect Pantry       4  "
      ]
     },
     "execution_count": 79,
     "metadata": {},
     "output_type": "execute_result"
    }
   ],
   "source": [
    "recipe_info_df.head()"
   ]
  },
  {
   "cell_type": "code",
   "execution_count": 80,
   "metadata": {
    "collapsed": false
   },
   "outputs": [],
   "source": [
    "# create flavor_df\n",
    "\n",
    "flavor_df = pd.DataFrame(flavors_dict).transpose()"
   ]
  },
  {
   "cell_type": "code",
   "execution_count": 81,
   "metadata": {
    "collapsed": false
   },
   "outputs": [
    {
     "data": {
      "text/html": [
       "<div>\n",
       "<table border=\"1\" class=\"dataframe\">\n",
       "  <thead>\n",
       "    <tr style=\"text-align: right;\">\n",
       "      <th></th>\n",
       "      <th>bitter</th>\n",
       "      <th>meaty</th>\n",
       "      <th>piquant</th>\n",
       "      <th>salty</th>\n",
       "      <th>sour</th>\n",
       "      <th>sweet</th>\n",
       "    </tr>\n",
       "  </thead>\n",
       "  <tbody>\n",
       "    <tr>\n",
       "      <th>10-Minute-Spinach-Lasagna-991495</th>\n",
       "      <td>0.5</td>\n",
       "      <td>0.166667</td>\n",
       "      <td>0</td>\n",
       "      <td>0.666667</td>\n",
       "      <td>0.166667</td>\n",
       "      <td>0.333333</td>\n",
       "    </tr>\n",
       "    <tr>\n",
       "      <th>Amazing-Dutch-Oven-Lasagna-1696078</th>\n",
       "      <td>None</td>\n",
       "      <td>None</td>\n",
       "      <td>None</td>\n",
       "      <td>None</td>\n",
       "      <td>None</td>\n",
       "      <td>None</td>\n",
       "    </tr>\n",
       "    <tr>\n",
       "      <th>American-Lasagna-1488724</th>\n",
       "      <td>0.833333</td>\n",
       "      <td>0.333333</td>\n",
       "      <td>0</td>\n",
       "      <td>0.833333</td>\n",
       "      <td>0.333333</td>\n",
       "      <td>0.166667</td>\n",
       "    </tr>\n",
       "    <tr>\n",
       "      <th>Bertolli-lasagna-304071</th>\n",
       "      <td>None</td>\n",
       "      <td>None</td>\n",
       "      <td>None</td>\n",
       "      <td>None</td>\n",
       "      <td>None</td>\n",
       "      <td>None</td>\n",
       "    </tr>\n",
       "    <tr>\n",
       "      <th>Best-Lasagna-1698933</th>\n",
       "      <td>0.833333</td>\n",
       "      <td>0.5</td>\n",
       "      <td>0.833333</td>\n",
       "      <td>0.833333</td>\n",
       "      <td>0.166667</td>\n",
       "      <td>0.333333</td>\n",
       "    </tr>\n",
       "  </tbody>\n",
       "</table>\n",
       "</div>"
      ],
      "text/plain": [
       "                                      bitter     meaty   piquant     salty  \\\n",
       "10-Minute-Spinach-Lasagna-991495         0.5  0.166667         0  0.666667   \n",
       "Amazing-Dutch-Oven-Lasagna-1696078      None      None      None      None   \n",
       "American-Lasagna-1488724            0.833333  0.333333         0  0.833333   \n",
       "Bertolli-lasagna-304071                 None      None      None      None   \n",
       "Best-Lasagna-1698933                0.833333       0.5  0.833333  0.833333   \n",
       "\n",
       "                                        sour     sweet  \n",
       "10-Minute-Spinach-Lasagna-991495    0.166667  0.333333  \n",
       "Amazing-Dutch-Oven-Lasagna-1696078      None      None  \n",
       "American-Lasagna-1488724            0.333333  0.166667  \n",
       "Bertolli-lasagna-304071                 None      None  \n",
       "Best-Lasagna-1698933                0.166667  0.333333  "
      ]
     },
     "execution_count": 81,
     "metadata": {},
     "output_type": "execute_result"
    }
   ],
   "source": [
    "# view flavor_df\n",
    "flavor_df.head()"
   ]
  },
  {
   "cell_type": "markdown",
   "metadata": {},
   "source": [
    "### Build Courses DF"
   ]
  },
  {
   "cell_type": "code",
   "execution_count": 95,
   "metadata": {
    "collapsed": true
   },
   "outputs": [],
   "source": [
    "master_course_df = pd.read_csv('../Assets/master_courses.csv', names=['course'])"
   ]
  },
  {
   "cell_type": "code",
   "execution_count": 97,
   "metadata": {
    "collapsed": false
   },
   "outputs": [],
   "source": [
    "master_course_list = master_course_df.course"
   ]
  },
  {
   "cell_type": "code",
   "execution_count": 99,
   "metadata": {
    "collapsed": false
   },
   "outputs": [],
   "source": [
    "courses_dict_2 = {}\n",
    "for recipe, course_list in courses_dict.iteritems():\n",
    "    cour_dict = {}\n",
    "    for master_course in master_course_list:\n",
    "        try:\n",
    "            if master_course in course_list:\n",
    "                cour_dict[master_course] = 1\n",
    "            else:\n",
    "                cour_dict[master_course] = 0\n",
    "        except TypeError:\n",
    "            cour_dict[master_course] = 0\n",
    "    \n",
    "        courses_dict_2[recipe] = cour_dict"
   ]
  },
  {
   "cell_type": "markdown",
   "metadata": {},
   "source": [
    "Check if it works!! It does!"
   ]
  },
  {
   "cell_type": "code",
   "execution_count": 101,
   "metadata": {
    "collapsed": false
   },
   "outputs": [
    {
     "data": {
      "text/plain": [
       "{u'10-Minute-Spinach-Lasagna-991495': [u'Main Dishes'],\n",
       " u'Amazing-Dutch-Oven-Lasagna-1696078': [u'Main Dishes'],\n",
       " u'American-Lasagna-1488724': [u'Main Dishes'],\n",
       " u'Bertolli-lasagna-304071': [u'Main Dishes'],\n",
       " u'Best-Lasagna-1698933': [u'Main Dishes'],\n",
       " u'Buddy-Lasagna-1574071': [u'Main Dishes'],\n",
       " u'COWBOY-LASAGNA-1633539': [u'Main Dishes'],\n",
       " u'Cheesy-Lasagna-561559': [u'Main Dishes'],\n",
       " u'Chicken-Broccoli-Slow-Cooker-Lasagna-1663551': [u'Main Dishes'],\n",
       " u'Classic-Italian-Lasagna-485275': [u'Main Dishes'],\n",
       " u'Classic-Lasagna-1007565': [u'Main Dishes'],\n",
       " u'Classic-Lasagna-1307747': [u'Main Dishes'],\n",
       " u'Classic-Lasagna-1327166': [u'Main Dishes'],\n",
       " u'Classic-Lasagna-1629867': [u'Main Dishes'],\n",
       " u'Crafty-Crescent-Lasagna-685422': [u'Main Dishes'],\n",
       " u'Crockin-Lasagna-1540644': [u'Main Dishes'],\n",
       " u'Crockpot-Lasagna-1012361': [u'Main Dishes'],\n",
       " u'Crockpot-Lasagna-1496022': [u'Main Dishes'],\n",
       " u'Crockpot-Lasagna-1516649': [u'Main Dishes'],\n",
       " u'Crockpot-Lasagna-608751': [u'Main Dishes'],\n",
       " u'Deadly-Delicious-Lasagna-Allrecipes': [u'Main Dishes'],\n",
       " u'Diabetic-Lasagna-1629563': [u'Main Dishes'],\n",
       " u'Diet-Vegetable-Lasagna-1699229': None,\n",
       " u'Diet-Vegetable-Lasagna-1701898': [u'Main Dishes'],\n",
       " u'Easiest-Lasagna-Ever-1555789': [u'Main Dishes'],\n",
       " u'Easy-Meat-Lasagna-1702707': [u'Main Dishes'],\n",
       " u'Eggplant-Lasagna-1698879': [u'Main Dishes'],\n",
       " u'Florentine-Lasagna-679983': [u'Main Dishes'],\n",
       " u'Healthy-Lasagna-1194516': [u'Main Dishes'],\n",
       " u'Hearty-Lasagna-Allrecipes': [u'Main Dishes'],\n",
       " u'Hearty-bertolli-lasagna-304121': [u'Main Dishes'],\n",
       " u'Homemade-Lasagna-780490': [u'Main Dishes'],\n",
       " u'Homestyle-Lasagna-1628460': [u'Main Dishes'],\n",
       " u'Kristy_s-Lasagna-Allrecipes': [u'Main Dishes'],\n",
       " u'LASAGNA-1549643': [u'Main Dishes'],\n",
       " u'Lasagna-1010592': [u'Main Dishes'],\n",
       " u'Lasagna-1012776': [u'Main Dishes'],\n",
       " u'Lasagna-1190748': [u'Main Dishes'],\n",
       " u'Lasagna-1204781': [u'Main Dishes'],\n",
       " u'Lasagna-1312316': [u'Main Dishes'],\n",
       " u'Lasagna-1363443': [u'Main Dishes'],\n",
       " u'Lasagna-1372008': [u'Main Dishes'],\n",
       " u'Lasagna-1422375': [u'Main Dishes'],\n",
       " u'Lasagna-1428205': [u'Main Dishes'],\n",
       " u'Lasagna-1466439': None,\n",
       " u'Lasagna-1477320': [u'Main Dishes'],\n",
       " u'Lasagna-1482502': [u'Main Dishes'],\n",
       " u'Lasagna-1521518': [u'Main Dishes'],\n",
       " u'Lasagna-1572575': [u'Main Dishes'],\n",
       " u'Lasagna-1621905': [u'Main Dishes'],\n",
       " u'Lasagna-1704692': [u'Main Dishes'],\n",
       " u'Lasagna-458970': [u'Main Dishes'],\n",
       " u'Lasagna-470128': [u'Main Dishes'],\n",
       " u'Lasagna-494544': [u'Main Dishes'],\n",
       " u'Lasagna-761901': [u'Main Dishes'],\n",
       " u'Lasagna-997918': [u'Main Dishes'],\n",
       " u'Lasagna-Alfredo-1607781': [u'Main Dishes'],\n",
       " u'Lasagna-Allrecipes': [u'Main Dishes'],\n",
       " u'Lasagna-Bolognese-675711': None,\n",
       " u'Lasagna-Formaggio-1115773': [u'Main Dishes'],\n",
       " u'Lasagna-Formaggio-1360903': [u'Main Dishes'],\n",
       " u'Lasagna-Martha-Stewart-195398': [u'Main Dishes'],\n",
       " u'Lasagna-MyRecipes-247393': [u'Main Dishes'],\n",
       " u'Lasagna-Roll-Ups-1706378': [u'Main Dishes'],\n",
       " u'Lasagna-Rolls-1535130': [u'Main Dishes'],\n",
       " u'Lasagna-Rosa-1355961': [u'Main Dishes'],\n",
       " u'Lasagna-Soup-1517550': [u'Soups', u'Main Dishes'],\n",
       " u'Lasagna-with-a-twist-297336': [u'Main Dishes'],\n",
       " u'Meat-Lasagna-1210886': [u'Main Dishes'],\n",
       " u'Meatball-Lasagna-TasteOfHome': [u'Main Dishes'],\n",
       " u'Meaty-Mediterranean-Lasagna-1704193': None,\n",
       " u'Miracle-Lasagna-Allrecipes': [u'Main Dishes'],\n",
       " u'Moms-Lasagna-1619329': [u'Main Dishes'],\n",
       " u'No-Boiling-Lasagna-1073204': [u'Main Dishes'],\n",
       " u'One-Skillet-Lasagna-1697127': [u'Main Dishes'],\n",
       " u'Perfect-Lasagna-1330996': None,\n",
       " u'Pierogi-Lasagna-1541867': [u'Main Dishes'],\n",
       " u'Poor-Man_s-Lasagna-1697316': [u'Main Dishes'],\n",
       " u'Quick-_-Easy-Lasagna-1705378': [u'Main Dishes'],\n",
       " u'Rainbow-Lasagna-Rolls-1688222': [u'Main Dishes'],\n",
       " u'Rustic-Veggie-Lasagna-1706466': [u'Main Dishes'],\n",
       " u'Simple-Lasagna-1175339': [u'Main Dishes'],\n",
       " u'Simply-Lasagna-1440191': [u'Main Dishes'],\n",
       " u'Simply-Lasagna-1533852': [u'Main Dishes'],\n",
       " u'Skillet-Lasagna-1596260': [u'Main Dishes'],\n",
       " u'Skillet-Lasagna-1682102': [u'Main Dishes'],\n",
       " u'Spicy-Sausage-Lasagna-Rolls-1703824': [u'Main Dishes'],\n",
       " u'Taco-Lasagna-1596371': [u'Main Dishes'],\n",
       " u'The-Best-Damn-Lasagna-on-Earth-1657211': [u'Main Dishes'],\n",
       " u'The-Best-Vegan-Lasagna-1680656': [u'Main Dishes'],\n",
       " u'The-Easiest-Lasagna-1268599': [u'Main Dishes'],\n",
       " u'Three-Layer-Lasagna-1103876': [u'Main Dishes'],\n",
       " u'Traditional-Lasagna-1531222': [u'Main Dishes'],\n",
       " u'Traditional-Lasagna-1682068': [u'Main Dishes'],\n",
       " u'Tuscan-Lasagna-1200366': [u'Main Dishes'],\n",
       " u'Tuscan-Lasagna-1468511': [u'Main Dishes'],\n",
       " u'Veggie-Lasagna-1702973': [u'Main Dishes'],\n",
       " u'World_s-Best-Lasagna-1605396': [u'Main Dishes'],\n",
       " u'World_s-Best-Lasagna-1700143': [u'Main Dishes'],\n",
       " u'Worlds-Best-Lasagna-1690966': [u'Main Dishes']}"
      ]
     },
     "execution_count": 101,
     "metadata": {},
     "output_type": "execute_result"
    }
   ],
   "source": [
    "courses_dict"
   ]
  },
  {
   "cell_type": "code",
   "execution_count": 104,
   "metadata": {
    "collapsed": false
   },
   "outputs": [
    {
     "data": {
      "text/plain": [
       "{'Appetizers': 0,\n",
       " 'Beverages': 0,\n",
       " 'Breads': 0,\n",
       " 'Breakfast and Brunch': 0,\n",
       " 'Cocktails': 0,\n",
       " 'Condiments and Sauces': 0,\n",
       " 'Desserts': 0,\n",
       " 'Lunch': 0,\n",
       " 'Main Dishes': 1,\n",
       " 'Salads': 0,\n",
       " 'Side Dishes': 0,\n",
       " 'Snacks': 0,\n",
       " 'Soups': 1}"
      ]
     },
     "execution_count": 104,
     "metadata": {},
     "output_type": "execute_result"
    }
   ],
   "source": [
    "courses_dict_2['Lasagna-Soup-1517550']"
   ]
  },
  {
   "cell_type": "code",
   "execution_count": 54,
   "metadata": {
    "collapsed": false
   },
   "outputs": [],
   "source": [
    "# Code from stackoverflow - no longer needed\n",
    "\n",
    "# courses_df = pd.DataFrame(dict([ (k,pd.Series(v)) for k,v in courses_dict.iteritems() ])).transpose()"
   ]
  },
  {
   "cell_type": "code",
   "execution_count": 105,
   "metadata": {
    "collapsed": false
   },
   "outputs": [],
   "source": [
    "courses_df = pd.DataFrame(courses_dict_2)"
   ]
  },
  {
   "cell_type": "code",
   "execution_count": 107,
   "metadata": {
    "collapsed": false
   },
   "outputs": [],
   "source": [
    "courses_df = courses_df.T"
   ]
  },
  {
   "cell_type": "markdown",
   "metadata": {},
   "source": [
    "### Build Cuisine DF"
   ]
  },
  {
   "cell_type": "code",
   "execution_count": 129,
   "metadata": {
    "collapsed": true
   },
   "outputs": [],
   "source": [
    "master_cuisine_df = pd.read_csv('../Assets/master_cuisines.csv', names = ['cuisine'])"
   ]
  },
  {
   "cell_type": "code",
   "execution_count": 132,
   "metadata": {
    "collapsed": true
   },
   "outputs": [],
   "source": [
    "master_cuisine_list = master_cuisine_df.cuisine"
   ]
  },
  {
   "cell_type": "code",
   "execution_count": 133,
   "metadata": {
    "collapsed": false
   },
   "outputs": [],
   "source": [
    "cuisine_dict_2 = {}\n",
    "for recipe, cuisine_list in cuisine_dict.iteritems():\n",
    "    cuis_dict = {}\n",
    "    for master_cuisine in master_cuisine_list:\n",
    "        try:\n",
    "            if master_cuisine in cuisine_list:\n",
    "                cuis_dict[master_cuisine] = 1\n",
    "            else:\n",
    "                cuis_dict[master_cuisine] = 0\n",
    "        except TypeError:\n",
    "            cuis_dict[master_cuisine] = 0\n",
    "    \n",
    "        cuisine_dict_2[recipe] = cuis_dict"
   ]
  },
  {
   "cell_type": "code",
   "execution_count": 135,
   "metadata": {
    "collapsed": true
   },
   "outputs": [],
   "source": [
    "cuisine_df = pd.DataFrame(cuisine_dict_2)"
   ]
  },
  {
   "cell_type": "code",
   "execution_count": 139,
   "metadata": {
    "collapsed": false
   },
   "outputs": [],
   "source": [
    "cuisine_df = cuisine_df.T"
   ]
  },
  {
   "cell_type": "code",
   "execution_count": 68,
   "metadata": {
    "collapsed": false
   },
   "outputs": [],
   "source": [
    "# old code\n",
    "# cuisine_df = pd.DataFrame(dict([ (k, pd.Series(v)) for k,v in cuisine_dict.iteritems() ])).transpose()"
   ]
  },
  {
   "cell_type": "markdown",
   "metadata": {},
   "source": [
    "### Build Ingredients DF"
   ]
  },
  {
   "cell_type": "code",
   "execution_count": 41,
   "metadata": {
    "collapsed": false
   },
   "outputs": [],
   "source": [
    "# this is one way of doing it, but will need to change\n",
    "\n",
    "ingredients_df = pd.DataFrame.from_dict(ingredients_dict, orient='index')"
   ]
  },
  {
   "cell_type": "code",
   "execution_count": 42,
   "metadata": {
    "collapsed": false
   },
   "outputs": [
    {
     "data": {
      "text/html": [
       "<div>\n",
       "<table border=\"1\" class=\"dataframe\">\n",
       "  <thead>\n",
       "    <tr style=\"text-align: right;\">\n",
       "      <th></th>\n",
       "      <th>0</th>\n",
       "      <th>1</th>\n",
       "      <th>2</th>\n",
       "      <th>3</th>\n",
       "      <th>4</th>\n",
       "      <th>5</th>\n",
       "      <th>6</th>\n",
       "      <th>7</th>\n",
       "      <th>8</th>\n",
       "      <th>9</th>\n",
       "      <th>10</th>\n",
       "      <th>11</th>\n",
       "      <th>12</th>\n",
       "      <th>13</th>\n",
       "      <th>14</th>\n",
       "      <th>15</th>\n",
       "      <th>16</th>\n",
       "      <th>17</th>\n",
       "      <th>18</th>\n",
       "    </tr>\n",
       "  </thead>\n",
       "  <tbody>\n",
       "    <tr>\n",
       "      <th>Veal-Paprikash-My-Recipes</th>\n",
       "      <td>margarine</td>\n",
       "      <td>cooking spray</td>\n",
       "      <td>veal</td>\n",
       "      <td>sliced carrots</td>\n",
       "      <td>onions</td>\n",
       "      <td>garlic cloves</td>\n",
       "      <td>all-purpose flour</td>\n",
       "      <td>paprika</td>\n",
       "      <td>salt</td>\n",
       "      <td>pepper</td>\n",
       "      <td>low salt chicken broth</td>\n",
       "      <td>fat free beef broth</td>\n",
       "      <td>dry white wine</td>\n",
       "      <td>bay leaves</td>\n",
       "      <td>low-fat sour cream</td>\n",
       "      <td>medium egg noodles</td>\n",
       "      <td>chopped parsley</td>\n",
       "      <td>None</td>\n",
       "      <td>None</td>\n",
       "    </tr>\n",
       "    <tr>\n",
       "      <th>Stuffed-Veal-Breast-1582031</th>\n",
       "      <td>veal breast</td>\n",
       "      <td>butter</td>\n",
       "      <td>almonds</td>\n",
       "      <td>eggs</td>\n",
       "      <td>nutmeg</td>\n",
       "      <td>lemon</td>\n",
       "      <td>salt</td>\n",
       "      <td>pepper</td>\n",
       "      <td>old bread</td>\n",
       "      <td>fresh parsley</td>\n",
       "      <td>None</td>\n",
       "      <td>None</td>\n",
       "      <td>None</td>\n",
       "      <td>None</td>\n",
       "      <td>None</td>\n",
       "      <td>None</td>\n",
       "      <td>None</td>\n",
       "      <td>None</td>\n",
       "      <td>None</td>\n",
       "    </tr>\n",
       "    <tr>\n",
       "      <th>Veal-scaloppine-with-lemon-_-capers-297820</th>\n",
       "      <td>all-purpose flour</td>\n",
       "      <td>salt</td>\n",
       "      <td>ground black pepper</td>\n",
       "      <td>veal</td>\n",
       "      <td>I Can't Believe It's Not Butter!® Spread</td>\n",
       "      <td>chicken broth</td>\n",
       "      <td>lemon juice</td>\n",
       "      <td>capers</td>\n",
       "      <td>None</td>\n",
       "      <td>None</td>\n",
       "      <td>None</td>\n",
       "      <td>None</td>\n",
       "      <td>None</td>\n",
       "      <td>None</td>\n",
       "      <td>None</td>\n",
       "      <td>None</td>\n",
       "      <td>None</td>\n",
       "      <td>None</td>\n",
       "      <td>None</td>\n",
       "    </tr>\n",
       "    <tr>\n",
       "      <th>Veal-Meatballs-899076</th>\n",
       "      <td>lemon</td>\n",
       "      <td>chicken stock</td>\n",
       "      <td>veal</td>\n",
       "      <td>beef</td>\n",
       "      <td>meatballs</td>\n",
       "      <td>spaghetti</td>\n",
       "      <td>sauce</td>\n",
       "      <td>None</td>\n",
       "      <td>None</td>\n",
       "      <td>None</td>\n",
       "      <td>None</td>\n",
       "      <td>None</td>\n",
       "      <td>None</td>\n",
       "      <td>None</td>\n",
       "      <td>None</td>\n",
       "      <td>None</td>\n",
       "      <td>None</td>\n",
       "      <td>None</td>\n",
       "      <td>None</td>\n",
       "    </tr>\n",
       "    <tr>\n",
       "      <th>SALTIMBOCCA-DI-VITELLO-_Veal-Saltimbocca_-1589748</th>\n",
       "      <td>veal cutlets</td>\n",
       "      <td>sage leaves</td>\n",
       "      <td>prosciutto</td>\n",
       "      <td>all-purpose flour</td>\n",
       "      <td>salt</td>\n",
       "      <td>pepper</td>\n",
       "      <td>olive oil</td>\n",
       "      <td>fontina cheese</td>\n",
       "      <td>dry white wine</td>\n",
       "      <td>veal demi-glace</td>\n",
       "      <td>None</td>\n",
       "      <td>None</td>\n",
       "      <td>None</td>\n",
       "      <td>None</td>\n",
       "      <td>None</td>\n",
       "      <td>None</td>\n",
       "      <td>None</td>\n",
       "      <td>None</td>\n",
       "      <td>None</td>\n",
       "    </tr>\n",
       "  </tbody>\n",
       "</table>\n",
       "</div>"
      ],
      "text/plain": [
       "                                                                  0   \\\n",
       "Veal-Paprikash-My-Recipes                                  margarine   \n",
       "Stuffed-Veal-Breast-1582031                              veal breast   \n",
       "Veal-scaloppine-with-lemon-_-capers-297820         all-purpose flour   \n",
       "Veal-Meatballs-899076                                          lemon   \n",
       "SALTIMBOCCA-DI-VITELLO-_Veal-Saltimbocca_-1589748       veal cutlets   \n",
       "\n",
       "                                                              1   \\\n",
       "Veal-Paprikash-My-Recipes                          cooking spray   \n",
       "Stuffed-Veal-Breast-1582031                               butter   \n",
       "Veal-scaloppine-with-lemon-_-capers-297820                  salt   \n",
       "Veal-Meatballs-899076                              chicken stock   \n",
       "SALTIMBOCCA-DI-VITELLO-_Veal-Saltimbocca_-1589748    sage leaves   \n",
       "\n",
       "                                                                    2   \\\n",
       "Veal-Paprikash-My-Recipes                                         veal   \n",
       "Stuffed-Veal-Breast-1582031                                    almonds   \n",
       "Veal-scaloppine-with-lemon-_-capers-297820         ground black pepper   \n",
       "Veal-Meatballs-899076                                             veal   \n",
       "SALTIMBOCCA-DI-VITELLO-_Veal-Saltimbocca_-1589748           prosciutto   \n",
       "\n",
       "                                                                  3   \\\n",
       "Veal-Paprikash-My-Recipes                             sliced carrots   \n",
       "Stuffed-Veal-Breast-1582031                                     eggs   \n",
       "Veal-scaloppine-with-lemon-_-capers-297820                      veal   \n",
       "Veal-Meatballs-899076                                           beef   \n",
       "SALTIMBOCCA-DI-VITELLO-_Veal-Saltimbocca_-1589748  all-purpose flour   \n",
       "\n",
       "                                                                                         4   \\\n",
       "Veal-Paprikash-My-Recipes                                                            onions   \n",
       "Stuffed-Veal-Breast-1582031                                                          nutmeg   \n",
       "Veal-scaloppine-with-lemon-_-capers-297820         I Can't Believe It's Not Butter!® Spread   \n",
       "Veal-Meatballs-899076                                                             meatballs   \n",
       "SALTIMBOCCA-DI-VITELLO-_Veal-Saltimbocca_-1589748                                      salt   \n",
       "\n",
       "                                                              5   \\\n",
       "Veal-Paprikash-My-Recipes                          garlic cloves   \n",
       "Stuffed-Veal-Breast-1582031                                lemon   \n",
       "Veal-scaloppine-with-lemon-_-capers-297820         chicken broth   \n",
       "Veal-Meatballs-899076                                  spaghetti   \n",
       "SALTIMBOCCA-DI-VITELLO-_Veal-Saltimbocca_-1589748         pepper   \n",
       "\n",
       "                                                                  6   \\\n",
       "Veal-Paprikash-My-Recipes                          all-purpose flour   \n",
       "Stuffed-Veal-Breast-1582031                                     salt   \n",
       "Veal-scaloppine-with-lemon-_-capers-297820               lemon juice   \n",
       "Veal-Meatballs-899076                                          sauce   \n",
       "SALTIMBOCCA-DI-VITELLO-_Veal-Saltimbocca_-1589748          olive oil   \n",
       "\n",
       "                                                               7   \\\n",
       "Veal-Paprikash-My-Recipes                                 paprika   \n",
       "Stuffed-Veal-Breast-1582031                                pepper   \n",
       "Veal-scaloppine-with-lemon-_-capers-297820                 capers   \n",
       "Veal-Meatballs-899076                                        None   \n",
       "SALTIMBOCCA-DI-VITELLO-_Veal-Saltimbocca_-1589748  fontina cheese   \n",
       "\n",
       "                                                               8   \\\n",
       "Veal-Paprikash-My-Recipes                                    salt   \n",
       "Stuffed-Veal-Breast-1582031                             old bread   \n",
       "Veal-scaloppine-with-lemon-_-capers-297820                   None   \n",
       "Veal-Meatballs-899076                                        None   \n",
       "SALTIMBOCCA-DI-VITELLO-_Veal-Saltimbocca_-1589748  dry white wine   \n",
       "\n",
       "                                                                9   \\\n",
       "Veal-Paprikash-My-Recipes                                   pepper   \n",
       "Stuffed-Veal-Breast-1582031                          fresh parsley   \n",
       "Veal-scaloppine-with-lemon-_-capers-297820                    None   \n",
       "Veal-Meatballs-899076                                         None   \n",
       "SALTIMBOCCA-DI-VITELLO-_Veal-Saltimbocca_-1589748  veal demi-glace   \n",
       "\n",
       "                                                                       10  \\\n",
       "Veal-Paprikash-My-Recipes                          low salt chicken broth   \n",
       "Stuffed-Veal-Breast-1582031                                          None   \n",
       "Veal-scaloppine-with-lemon-_-capers-297820                           None   \n",
       "Veal-Meatballs-899076                                                None   \n",
       "SALTIMBOCCA-DI-VITELLO-_Veal-Saltimbocca_-1589748                    None   \n",
       "\n",
       "                                                                    11  \\\n",
       "Veal-Paprikash-My-Recipes                          fat free beef broth   \n",
       "Stuffed-Veal-Breast-1582031                                       None   \n",
       "Veal-scaloppine-with-lemon-_-capers-297820                        None   \n",
       "Veal-Meatballs-899076                                             None   \n",
       "SALTIMBOCCA-DI-VITELLO-_Veal-Saltimbocca_-1589748                 None   \n",
       "\n",
       "                                                               12          13  \\\n",
       "Veal-Paprikash-My-Recipes                          dry white wine  bay leaves   \n",
       "Stuffed-Veal-Breast-1582031                                  None        None   \n",
       "Veal-scaloppine-with-lemon-_-capers-297820                   None        None   \n",
       "Veal-Meatballs-899076                                        None        None   \n",
       "SALTIMBOCCA-DI-VITELLO-_Veal-Saltimbocca_-1589748            None        None   \n",
       "\n",
       "                                                                   14  \\\n",
       "Veal-Paprikash-My-Recipes                          low-fat sour cream   \n",
       "Stuffed-Veal-Breast-1582031                                      None   \n",
       "Veal-scaloppine-with-lemon-_-capers-297820                       None   \n",
       "Veal-Meatballs-899076                                            None   \n",
       "SALTIMBOCCA-DI-VITELLO-_Veal-Saltimbocca_-1589748                None   \n",
       "\n",
       "                                                                   15  \\\n",
       "Veal-Paprikash-My-Recipes                          medium egg noodles   \n",
       "Stuffed-Veal-Breast-1582031                                      None   \n",
       "Veal-scaloppine-with-lemon-_-capers-297820                       None   \n",
       "Veal-Meatballs-899076                                            None   \n",
       "SALTIMBOCCA-DI-VITELLO-_Veal-Saltimbocca_-1589748                None   \n",
       "\n",
       "                                                                16    17    18  \n",
       "Veal-Paprikash-My-Recipes                          chopped parsley  None  None  \n",
       "Stuffed-Veal-Breast-1582031                                   None  None  None  \n",
       "Veal-scaloppine-with-lemon-_-capers-297820                    None  None  None  \n",
       "Veal-Meatballs-899076                                         None  None  None  \n",
       "SALTIMBOCCA-DI-VITELLO-_Veal-Saltimbocca_-1589748             None  None  None  "
      ]
     },
     "execution_count": 42,
     "metadata": {},
     "output_type": "execute_result"
    }
   ],
   "source": [
    "ingredients_df.head()"
   ]
  },
  {
   "cell_type": "markdown",
   "metadata": {},
   "source": [
    "### Metadata Searches and Building Master Lists"
   ]
  },
  {
   "cell_type": "code",
   "execution_count": 5,
   "metadata": {
    "collapsed": true
   },
   "outputs": [],
   "source": [
    "# Search for valid course terms\n",
    "\n",
    "meta_search_ingredient = requests.get('http://api.yummly.com/v1/api/metadata/ingredient?', headers=headers)"
   ]
  },
  {
   "cell_type": "code",
   "execution_count": 82,
   "metadata": {
    "collapsed": true
   },
   "outputs": [],
   "source": [
    "# Search for valid holiday terms\n",
    "\n",
    "meta_search_course = requests.get('http://api.yummly.com/v1/api/metadata/course?', headers=headers)"
   ]
  },
  {
   "cell_type": "code",
   "execution_count": 109,
   "metadata": {
    "collapsed": true
   },
   "outputs": [],
   "source": [
    "# Search for valid cuisine terms\n",
    "\n",
    "meta_search_cuisine = requests.get('http://api.yummly.com/v1/api/metadata/cuisine?', headers=headers)"
   ]
  },
  {
   "cell_type": "code",
   "execution_count": null,
   "metadata": {
    "collapsed": true
   },
   "outputs": [],
   "source": []
  },
  {
   "cell_type": "code",
   "execution_count": 83,
   "metadata": {
    "collapsed": false
   },
   "outputs": [
    {
     "data": {
      "text/plain": [
       "200"
      ]
     },
     "execution_count": 83,
     "metadata": {},
     "output_type": "execute_result"
    }
   ],
   "source": [
    "meta_search_course.status_code"
   ]
  },
  {
   "cell_type": "code",
   "execution_count": 83,
   "metadata": {
    "collapsed": false
   },
   "outputs": [
    {
     "data": {
      "text/plain": [
       "u'set_metadata(\\'course\\', [{\"id\":\"course-Main Dishes\",\"name\":\"Main Dishes\",\"type\":\"course\",\"description\":\"Main Dishes\",\"searchValue\":\"course^course-Main Dishes\",\"localesAvailableIn\":[\"en-US\"]},{\"id\":\"course-Desserts\",\"name\":\"Desserts\",\"type\":\"course\",\"description\":\"Desserts\",\"searchValue\":\"course^course-Desserts\",\"localesAvailableIn\":[\"en-US\"]},{\"id\":\"course-Side Dishes\",\"name\":\"Side Dishes\",\"type\":\"course\",\"description\":\"Side Dishes\",\"searchValue\":\"course^course-Side Dishes\",\"localesAvailableIn\":[\"en-US\"]},{\"id\":\"course-Appetizers\",\"name\":\"Appetizers\",\"type\":\"course\",\"description\":\"Appetizers\",\"searchValue\":\"course^course-Appetizers\",\"localesAvailableIn\":[\"en-US\"]},{\"id\":\"course-Salads\",\"name\":\"Salads\",\"type\":\"course\",\"description\":\"Salads\",\"searchValue\":\"course^course-Salads\",\"localesAvailableIn\":[\"en-US\"]},{\"id\":\"course-Breakfast and Brunch\",\"name\":\"Breakfast and Brunch\",\"type\":\"course\",\"description\":\"Breakfast and Brunch\",\"searchValue\":\"course^course-Breakfast and Brunch\",\"localesAvailableIn\":[\"en-US\"]},{\"id\":\"course-Breads\",\"name\":\"Breads\",\"type\":\"course\",\"description\":\"Breads\",\"searchValue\":\"course^course-Breads\",\"localesAvailableIn\":[\"en-US\"]},{\"id\":\"course-Soups\",\"name\":\"Soups\",\"type\":\"course\",\"description\":\"Soups\",\"searchValue\":\"course^course-Soups\",\"localesAvailableIn\":[\"en-US\"]},{\"id\":\"course-Beverages\",\"name\":\"Beverages\",\"type\":\"course\",\"description\":\"Beverages\",\"searchValue\":\"course^course-Beverages\",\"localesAvailableIn\":[\"en-US\"]},{\"id\":\"course-Condiments and Sauces\",\"name\":\"Condiments and Sauces\",\"type\":\"course\",\"description\":\"Condiments and Sauces\",\"searchValue\":\"course^course-Condiments and Sauces\",\"localesAvailableIn\":[\"en-US\"]},{\"id\":\"course-Cocktails\",\"name\":\"Cocktails\",\"type\":\"course\",\"description\":\"Cocktails\",\"searchValue\":\"course^course-Cocktails\",\"localesAvailableIn\":[\"en-US\"]},{\"id\":\"course-Snacks\",\"name\":\"Snacks\",\"type\":\"course\",\"description\":\"Snacks\",\"searchValue\":\"course^course-Snacks\",\"localesAvailableIn\":[\"en-US\"]},{\"id\":\"course-Lunch\",\"name\":\"Lunch\",\"type\":\"course\",\"description\":\"Lunch\",\"searchValue\":\"course^course-Lunch\",\"localesAvailableIn\":[\"en-US\"]}]);'"
      ]
     },
     "execution_count": 83,
     "metadata": {},
     "output_type": "execute_result"
    }
   ],
   "source": [
    "meta_search_course.text"
   ]
  },
  {
   "cell_type": "code",
   "execution_count": 84,
   "metadata": {
    "collapsed": false
   },
   "outputs": [],
   "source": [
    "# Can't do .json() for metadata response, instead do .text\n",
    "\n",
    "# response = meta_search_ingredient.text[26:-2]\n",
    "response = meta_search_course.text[23:-2]"
   ]
  },
  {
   "cell_type": "code",
   "execution_count": 85,
   "metadata": {
    "collapsed": false
   },
   "outputs": [],
   "source": [
    "course_list = json.loads(response)"
   ]
  },
  {
   "cell_type": "code",
   "execution_count": 86,
   "metadata": {
    "collapsed": false
   },
   "outputs": [
    {
     "data": {
      "text/plain": [
       "{u'description': u'Snacks',\n",
       " u'id': u'course-Snacks',\n",
       " u'localesAvailableIn': [u'en-US'],\n",
       " u'name': u'Snacks',\n",
       " u'searchValue': u'course^course-Snacks',\n",
       " u'type': u'course'}"
      ]
     },
     "execution_count": 86,
     "metadata": {},
     "output_type": "execute_result"
    }
   ],
   "source": [
    "course_list[11]"
   ]
  },
  {
   "cell_type": "code",
   "execution_count": 87,
   "metadata": {
    "collapsed": true
   },
   "outputs": [],
   "source": [
    "master_courses = []\n",
    "for course in course_list:\n",
    "    master_courses.append(course.get('description'))"
   ]
  },
  {
   "cell_type": "code",
   "execution_count": 88,
   "metadata": {
    "collapsed": false
   },
   "outputs": [
    {
     "data": {
      "text/plain": [
       "[u'Main Dishes',\n",
       " u'Desserts',\n",
       " u'Side Dishes',\n",
       " u'Appetizers',\n",
       " u'Salads',\n",
       " u'Breakfast and Brunch',\n",
       " u'Breads',\n",
       " u'Soups',\n",
       " u'Beverages',\n",
       " u'Condiments and Sauces',\n",
       " u'Cocktails',\n",
       " u'Snacks',\n",
       " u'Lunch']"
      ]
     },
     "execution_count": 88,
     "metadata": {},
     "output_type": "execute_result"
    }
   ],
   "source": [
    "master_courses"
   ]
  },
  {
   "cell_type": "code",
   "execution_count": 89,
   "metadata": {
    "collapsed": true
   },
   "outputs": [],
   "source": [
    "master_courses_series = pd.Series(master_courses)"
   ]
  },
  {
   "cell_type": "code",
   "execution_count": 91,
   "metadata": {
    "collapsed": true
   },
   "outputs": [],
   "source": [
    "# master_courses_series.to_csv('../Assets/master_courses.csv', encoding='utf-8')"
   ]
  },
  {
   "cell_type": "code",
   "execution_count": 110,
   "metadata": {
    "collapsed": false
   },
   "outputs": [
    {
     "data": {
      "text/plain": [
       "u'set_metadata(\\'cuisine\\', [{\"id\":\"cuisine-american\",\"name\":\"American\",\"type\":\"cuisine\",\"description\":\"American\",\"searchValue\":\"cuisine^cuisine-american\",\"localesAvailableIn\":[\"en-US\"]},{\"id\":\"cuisine-kid-friendly\",\"name\":\"Kid-Friendly\",\"type\":\"cuisine\",\"description\":\"Kid-Friendly\",\"searchValue\":\"cuisine^cuisine-kid-friendly\",\"localesAvailableIn\":[\"en-US\"]},{\"id\":\"cuisine-italian\",\"name\":\"Italian\",\"type\":\"cuisine\",\"description\":\"Italian\",\"searchValue\":\"cuisine^cuisine-italian\",\"localesAvailableIn\":[\"en-US\"]},{\"id\":\"cuisine-asian\",\"name\":\"Asian\",\"type\":\"cuisine\",\"description\":\"Asian\",\"searchValue\":\"cuisine^cuisine-asian\",\"localesAvailableIn\":[\"en-US\"]},{\"id\":\"cuisine-mexican\",\"name\":\"Mexican\",\"type\":\"cuisine\",\"description\":\"Mexican\",\"searchValue\":\"cuisine^cuisine-mexican\",\"localesAvailableIn\":[\"en-US\"]},{\"id\":\"cuisine-southern\",\"name\":\"Southern & Soul Food\",\"type\":\"cuisine\",\"description\":\"Southern & Soul Food\",\"searchValue\":\"cuisine^cuisine-southern\",\"localesAvailableIn\":[\"en-US\"]},{\"id\":\"cuisine-french\",\"name\":\"French\",\"type\":\"cuisine\",\"description\":\"French\",\"searchValue\":\"cuisine^cuisine-french\",\"localesAvailableIn\":[\"en-US\"]},{\"id\":\"cuisine-southwestern\",\"name\":\"Southwestern\",\"type\":\"cuisine\",\"description\":\"Southwestern\",\"searchValue\":\"cuisine^cuisine-southwestern\",\"localesAvailableIn\":[\"en-US\"]},{\"id\":\"cuisine-barbecue-bbq\",\"name\":\"Barbecue\",\"type\":\"cuisine\",\"description\":\"Barbecue\",\"searchValue\":\"cuisine^cuisine-barbecue-bbq\",\"localesAvailableIn\":[\"en-US\"]},{\"id\":\"cuisine-indian\",\"name\":\"Indian\",\"type\":\"cuisine\",\"description\":\"Indian\",\"searchValue\":\"cuisine^cuisine-indian\",\"localesAvailableIn\":[\"en-US\"]},{\"id\":\"cuisine-chinese\",\"name\":\"Chinese\",\"type\":\"cuisine\",\"description\":\"Chinese\",\"searchValue\":\"cuisine^cuisine-chinese\",\"localesAvailableIn\":[\"en-US\"]},{\"id\":\"cuisine-cajun\",\"name\":\"Cajun & Creole\",\"type\":\"cuisine\",\"description\":\"Cajun & Creole\",\"searchValue\":\"cuisine^cuisine-cajun\",\"localesAvailableIn\":[\"en-US\"]},{\"id\":\"cuisine-mediterranean\",\"name\":\"Mediterranean\",\"type\":\"cuisine\",\"description\":\"Mediterranean\",\"searchValue\":\"cuisine^cuisine-mediterranean\",\"localesAvailableIn\":[\"en-US\"]},{\"id\":\"cuisine-greek\",\"name\":\"Greek\",\"type\":\"cuisine\",\"description\":\"Greek\",\"searchValue\":\"cuisine^cuisine-greek\",\"localesAvailableIn\":[\"en-US\"]},{\"id\":\"cuisine-english\",\"name\":\"English\",\"type\":\"cuisine\",\"description\":\"English\",\"searchValue\":\"cuisine^cuisine-english\",\"localesAvailableIn\":[\"en-US\"]},{\"id\":\"cuisine-spanish\",\"name\":\"Spanish\",\"type\":\"cuisine\",\"description\":\"Spanish\",\"searchValue\":\"cuisine^cuisine-spanish\",\"localesAvailableIn\":[\"en-US\"]},{\"id\":\"cuisine-thai\",\"name\":\"Thai\",\"type\":\"cuisine\",\"description\":\"Thai\",\"searchValue\":\"cuisine^cuisine-thai\",\"localesAvailableIn\":[\"en-US\"]},{\"id\":\"cuisine-german\",\"name\":\"German\",\"type\":\"cuisine\",\"description\":\"German\",\"searchValue\":\"cuisine^cuisine-german\",\"localesAvailableIn\":[\"en-US\"]},{\"id\":\"cuisine-moroccan\",\"name\":\"Moroccan\",\"type\":\"cuisine\",\"description\":\"Moroccan\",\"searchValue\":\"cuisine^cuisine-moroccan\",\"localesAvailableIn\":[\"en-US\"]},{\"id\":\"cuisine-irish\",\"name\":\"Irish\",\"type\":\"cuisine\",\"description\":\"Irish\",\"searchValue\":\"cuisine^cuisine-irish\",\"localesAvailableIn\":[\"en-US\"]},{\"id\":\"cuisine-japanese\",\"name\":\"Japanese\",\"type\":\"cuisine\",\"description\":\"Japanese\",\"searchValue\":\"cuisine^cuisine-japanese\",\"localesAvailableIn\":[\"en-US\"]},{\"id\":\"cuisine-cuban\",\"name\":\"Cuban\",\"type\":\"cuisine\",\"description\":\"Cuban\",\"searchValue\":\"cuisine^cuisine-cuban\",\"localesAvailableIn\":[\"en-US\"]},{\"id\":\"cuisine-hawaiian\",\"name\":\"Hawaiian\",\"type\":\"cuisine\",\"description\":\"Hawaiian\",\"searchValue\":\"cuisine^cuisine-hawaiian\",\"localesAvailableIn\":[\"en-US\"]},{\"id\":\"cuisine-swedish\",\"name\":\"Swedish\",\"type\":\"cuisine\",\"description\":\"Swedish\",\"searchValue\":\"cuisine^cuisine-swedish\",\"localesAvailableIn\":[\"en-US\"]},{\"id\":\"cuisine-hungarian\",\"name\":\"Hungarian\",\"type\":\"cuisine\",\"description\":\"Hungarian\",\"searchValue\":\"cuisine^cuisine-hungarian\",\"localesAvailableIn\":[\"en-US\"]},{\"id\":\"cuisine-portuguese\",\"name\":\"Portuguese\",\"type\":\"cuisine\",\"description\":\"Portuguese\",\"searchValue\":\"cuisine^cuisine-portuguese\",\"localesAvailableIn\":[\"en-US\"]}]);'"
      ]
     },
     "execution_count": 110,
     "metadata": {},
     "output_type": "execute_result"
    }
   ],
   "source": [
    "meta_search_cuisine.text"
   ]
  },
  {
   "cell_type": "code",
   "execution_count": 115,
   "metadata": {
    "collapsed": true
   },
   "outputs": [],
   "source": [
    "response_cuisine = meta_search_cuisine.text[24:-2]"
   ]
  },
  {
   "cell_type": "code",
   "execution_count": 117,
   "metadata": {
    "collapsed": false
   },
   "outputs": [],
   "source": [
    "cuisine_list = json.loads(response_cuisine)"
   ]
  },
  {
   "cell_type": "code",
   "execution_count": 123,
   "metadata": {
    "collapsed": true
   },
   "outputs": [],
   "source": [
    "master_cuisines = []\n",
    "for cuis in cuisine_list:\n",
    "    master_cuisines.append(cuis.get('description'))"
   ]
  },
  {
   "cell_type": "code",
   "execution_count": 125,
   "metadata": {
    "collapsed": true
   },
   "outputs": [],
   "source": [
    "master_cuisines_series = pd.Series(master_cuisines)"
   ]
  },
  {
   "cell_type": "code",
   "execution_count": 126,
   "metadata": {
    "collapsed": true
   },
   "outputs": [],
   "source": [
    "# master_cuisines_series.to_csv('../Assets/master_cuisines.csv', encoding='utf-8')"
   ]
  },
  {
   "cell_type": "code",
   "execution_count": 85,
   "metadata": {
    "collapsed": true
   },
   "outputs": [],
   "source": [
    "master_ingredients = []"
   ]
  },
  {
   "cell_type": "code",
   "execution_count": 86,
   "metadata": {
    "collapsed": false
   },
   "outputs": [],
   "source": [
    "for ingr in thing:\n",
    "    master_ingredients.append(ingr['description'])"
   ]
  },
  {
   "cell_type": "code",
   "execution_count": 87,
   "metadata": {
    "collapsed": false
   },
   "outputs": [],
   "source": [
    "master_ingr_series = pd.Series(master_ingredients)"
   ]
  },
  {
   "cell_type": "code",
   "execution_count": 89,
   "metadata": {
    "collapsed": false
   },
   "outputs": [],
   "source": [
    "# master_ingr_series.to_csv('master_ingredients', encoding='utf-8')"
   ]
  },
  {
   "cell_type": "code",
   "execution_count": 48,
   "metadata": {
    "collapsed": false
   },
   "outputs": [],
   "source": [
    "ind_recipe = requests.get('http://api.yummly.com/v1/api/recipe/French-Onion-Soup-The-Pioneer-Woman-Cooks-_-Ree-Drummond-41364?_app_id=e2b9bebc&_app_key=4193215272970d956cfd5384a08580a9')"
   ]
  },
  {
   "cell_type": "code",
   "execution_count": 91,
   "metadata": {
    "collapsed": true
   },
   "outputs": [],
   "source": [
    "french_id = 'French-Onion-Soup-The-Pioneer-Woman-Cooks-_-Ree-Drummond-41364'"
   ]
  },
  {
   "cell_type": "code",
   "execution_count": 94,
   "metadata": {
    "collapsed": true
   },
   "outputs": [],
   "source": [
    "get_recipe_url = 'http://api.yummly.com/v1/api/recipe/'"
   ]
  },
  {
   "cell_type": "code",
   "execution_count": 96,
   "metadata": {
    "collapsed": true
   },
   "outputs": [],
   "source": [
    "id_and_key = '_app_id=e2b9bebc&_app_key=4193215272970d956cfd5384a08580a9'"
   ]
  },
  {
   "cell_type": "code",
   "execution_count": 97,
   "metadata": {
    "collapsed": false
   },
   "outputs": [
    {
     "data": {
      "text/plain": [
       "'http://api.yummly.com/v1/api/recipe/French-Onion-Soup-The-Pioneer-Woman-Cooks-_-Ree-Drummond-41364?_app_id=e2b9bebc&_app_key=4193215272970d956cfd5384a08580a9'"
      ]
     },
     "execution_count": 97,
     "metadata": {},
     "output_type": "execute_result"
    }
   ],
   "source": [
    "get_recipe_url + french_id + '?' + id_and_key"
   ]
  },
  {
   "cell_type": "code",
   "execution_count": 86,
   "metadata": {
    "collapsed": true
   },
   "outputs": [],
   "source": [
    "id_parameters = {'recipe_id': 'French-Onion-Soup-The-Pioneer-Woman-Cooks-_-Ree-Drummond-41364'}"
   ]
  },
  {
   "cell_type": "code",
   "execution_count": 87,
   "metadata": {
    "collapsed": true
   },
   "outputs": [],
   "source": [
    "veal_scaloppine = requests.get(get_recipe_url, headers=headers, params=id_parameters)"
   ]
  },
  {
   "cell_type": "code",
   "execution_count": 88,
   "metadata": {
    "collapsed": false
   },
   "outputs": [
    {
     "data": {
      "text/plain": [
       "404"
      ]
     },
     "execution_count": 88,
     "metadata": {},
     "output_type": "execute_result"
    }
   ],
   "source": [
    "veal_scaloppine.status_code"
   ]
  },
  {
   "cell_type": "code",
   "execution_count": 49,
   "metadata": {
    "collapsed": false
   },
   "outputs": [
    {
     "data": {
      "text/plain": [
       "200"
      ]
     },
     "execution_count": 49,
     "metadata": {},
     "output_type": "execute_result"
    }
   ],
   "source": [
    "ind_recipe.status_code"
   ]
  },
  {
   "cell_type": "code",
   "execution_count": 98,
   "metadata": {
    "collapsed": true
   },
   "outputs": [],
   "source": [
    "another_try = requests.get(get_recipe_url + french_id + '?' + id_and_key)"
   ]
  },
  {
   "cell_type": "code",
   "execution_count": 99,
   "metadata": {
    "collapsed": false
   },
   "outputs": [
    {
     "data": {
      "text/plain": [
       "200"
      ]
     },
     "execution_count": 99,
     "metadata": {},
     "output_type": "execute_result"
    }
   ],
   "source": [
    "another_try.status_code"
   ]
  },
  {
   "cell_type": "code",
   "execution_count": 148,
   "metadata": {
    "collapsed": true
   },
   "outputs": [],
   "source": [
    "guac_ids = []\n",
    "for item in guac['matches']:\n",
    "    guac_ids.append(item.get('id'))"
   ]
  },
  {
   "cell_type": "code",
   "execution_count": 108,
   "metadata": {
    "collapsed": false
   },
   "outputs": [],
   "source": [
    "thingy = another_try.json()"
   ]
  },
  {
   "cell_type": "code",
   "execution_count": null,
   "metadata": {
    "collapsed": true
   },
   "outputs": [],
   "source": []
  },
  {
   "cell_type": "code",
   "execution_count": 115,
   "metadata": {
    "collapsed": false
   },
   "outputs": [
    {
     "data": {
      "text/plain": [
       "[u'totalTime',\n",
       " u'ingredientLines',\n",
       " u'attribution',\n",
       " u'name',\n",
       " u'rating',\n",
       " u'numberOfServings',\n",
       " u'yield',\n",
       " u'nutritionEstimates',\n",
       " u'source',\n",
       " u'flavors',\n",
       " u'images',\n",
       " u'attributes',\n",
       " u'id',\n",
       " u'totalTimeInSeconds']"
      ]
     },
     "execution_count": 115,
     "metadata": {},
     "output_type": "execute_result"
    }
   ],
   "source": [
    "thingy.keys()"
   ]
  },
  {
   "cell_type": "code",
   "execution_count": 116,
   "metadata": {
    "collapsed": false
   },
   "outputs": [
    {
     "data": {
      "text/plain": [
       "6"
      ]
     },
     "execution_count": 116,
     "metadata": {},
     "output_type": "execute_result"
    }
   ],
   "source": [
    "thingy['numberOfServings']"
   ]
  },
  {
   "cell_type": "code",
   "execution_count": 119,
   "metadata": {
    "collapsed": false
   },
   "outputs": [],
   "source": [
    "ids_series = pd.Series(ids)"
   ]
  },
  {
   "cell_type": "code",
   "execution_count": 149,
   "metadata": {
    "collapsed": true
   },
   "outputs": [],
   "source": [
    "guac_ids_series = pd.Series(guac_ids)"
   ]
  },
  {
   "cell_type": "code",
   "execution_count": 150,
   "metadata": {
    "collapsed": true
   },
   "outputs": [],
   "source": [
    "# guac_ids_series.to_csv('guac_ids')"
   ]
  },
  {
   "cell_type": "code",
   "execution_count": null,
   "metadata": {
    "collapsed": true
   },
   "outputs": [],
   "source": []
  }
 ],
 "metadata": {
  "kernelspec": {
   "display_name": "Python 2",
   "language": "python",
   "name": "python2"
  },
  "language_info": {
   "codemirror_mode": {
    "name": "ipython",
    "version": 2
   },
   "file_extension": ".py",
   "mimetype": "text/x-python",
   "name": "python",
   "nbconvert_exporter": "python",
   "pygments_lexer": "ipython2",
   "version": "2.7.11"
  }
 },
 "nbformat": 4,
 "nbformat_minor": 0
}
