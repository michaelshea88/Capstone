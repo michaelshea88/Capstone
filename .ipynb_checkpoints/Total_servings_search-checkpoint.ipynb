{
 "cells": [
  {
   "cell_type": "markdown",
   "metadata": {},
   "source": [
    "# Adding number of servings to our data"
   ]
  },
  {
   "cell_type": "markdown",
   "metadata": {},
   "source": [
    "API request for searching recipes by individual IDs is a little different than searching for bulk recipes."
   ]
  },
  {
   "cell_type": "code",
   "execution_count": null,
   "metadata": {
    "collapsed": true
   },
   "outputs": [],
   "source": [
    "# create base url variable\n",
    "get_recipe_url = 'http://api.yummly.com/v1/api/recipe/'\n",
    "\n",
    "# create id and key variable\n",
    "mike_id_and_key = '_app_id=e2b9bebc&_app_key=4193215272970d956cfd5384a08580a9'\n",
    "bruk_id_and_key = '_app_id=79663a75&_app_key=02b233108f476f3110e0f65437c4d6dd'\n",
    "\n",
    "# "
   ]
  }
 ],
 "metadata": {
  "kernelspec": {
   "display_name": "Python 2",
   "language": "python",
   "name": "python2"
  },
  "language_info": {
   "codemirror_mode": {
    "name": "ipython",
    "version": 2
   },
   "file_extension": ".py",
   "mimetype": "text/x-python",
   "name": "python",
   "nbconvert_exporter": "python",
   "pygments_lexer": "ipython2",
   "version": "2.7.11"
  }
 },
 "nbformat": 4,
 "nbformat_minor": 0
}
